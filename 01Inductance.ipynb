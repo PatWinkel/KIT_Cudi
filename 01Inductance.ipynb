{
 "metadata": {
  "name": ""
 },
 "nbformat": 3,
 "nbformat_minor": 0,
 "worksheets": [
  {
   "cells": [
    {
     "cell_type": "code",
     "collapsed": false,
     "input": [
      "import sys \n",
      "import os\n",
      "sys.path.append(os.path.abspath(\"/home/pcs/patrick/Dokumente/Github/colormap/\"))\n",
      "import colormaps as cmaps\n"
     ],
     "language": "python",
     "metadata": {},
     "outputs": [],
     "prompt_number": 2
    },
    {
     "cell_type": "code",
     "collapsed": false,
     "input": [
      "import numpy as np\n",
      "import scipy.constants as cs\n",
      "import scipy.special as ss\n",
      "from matplotlib import pyplot as plt\n",
      "from matplotlib import cm\n",
      "from qkit.qkit.gui.notebook.Progress_Bar import Progress_Bar as pb\n",
      "\n",
      "%matplotlib inline"
     ],
     "language": "python",
     "metadata": {},
     "outputs": [],
     "prompt_number": 1
    },
    {
     "cell_type": "code",
     "collapsed": false,
     "input": [
      "from matplotlib import rc\n",
      "rc('font',**{'family':'sans-serif','sans-serif':['Helvetica']})\n",
      "## for Palatino and other serif fonts use:\n",
      "#rc('font',**{'family':'serif','serif':['Palatino']})\n",
      "rc('text', usetex=True)"
     ],
     "language": "python",
     "metadata": {},
     "outputs": [],
     "prompt_number": 3
    },
    {
     "cell_type": "code",
     "collapsed": false,
     "input": [
      "labelsize = 27"
     ],
     "language": "python",
     "metadata": {},
     "outputs": [],
     "prompt_number": 4
    },
    {
     "cell_type": "code",
     "collapsed": false,
     "input": [
      "'''\n",
      "circuit 1:\n",
      "\n",
      "___L1_____L4_____\n",
      "      |\n",
      "      L3\n",
      "      |\n",
      "___L2_____L5_____     \n",
      "\n",
      "\n",
      "circuit 2:\n",
      "\n",
      "___L1_____L4_____\n",
      "      \n",
      "      \n",
      "      \n",
      "___L2_____L5_____     \n",
      "\n",
      "'''"
     ],
     "language": "python",
     "metadata": {},
     "outputs": [
      {
       "metadata": {},
       "output_type": "pyout",
       "prompt_number": 518,
       "text": [
        "'\\ncircuit 1:\\n\\n___L1_____L4_____\\n      |\\n      L3\\n      |\\n___L2_____L5_____     \\n\\n\\ncircuit 2:\\n\\n___L1_____L4_____\\n      \\n      \\n      \\n___L2_____L5_____     \\n\\n'"
       ]
      }
     ],
     "prompt_number": 518
    },
    {
     "cell_type": "code",
     "collapsed": false,
     "input": [
      "deltaLx = 0.01\n",
      "deltaLy = deltaLx   #inductance gradient x- and y-direction\n",
      "L1 = 10.\n",
      "L2 = 10.+deltaLy\n",
      "L3 = 10.\n",
      "L4 = 10.+deltaLx+deltaLy\n",
      "L5 = 10.+deltaLx"
     ],
     "language": "python",
     "metadata": {},
     "outputs": [],
     "prompt_number": 524
    },
    {
     "cell_type": "code",
     "collapsed": false,
     "input": [
      "\n",
      "L_I = L1+L2+L3\n",
      "L_II = L3+L4+L5\n",
      "L_III = (L_I*L4+L3*L1)/(L_I*L_II-L3**2.)\n",
      "\n",
      "'''\n",
      "L_I = L1+L2+L3\n",
      "L_II = -L3+L4+L5\n",
      "L_III = (L_I*L4-L3*L1)/(-L_I*L_II+L3**2.)\n",
      "'''"
     ],
     "language": "python",
     "metadata": {},
     "outputs": [
      {
       "metadata": {},
       "output_type": "pyout",
       "prompt_number": 525,
       "text": [
        "'\\nL_I = L1+L2+L3\\nL_II = -L3+L4+L5\\nL_III = (L_I*L4-L3*L1)/(-L_I*L_II+L3**2.)\\n'"
       ]
      }
     ],
     "prompt_number": 525
    },
    {
     "cell_type": "code",
     "collapsed": false,
     "input": [
      "#total inductance circuit 1\n",
      "L = L1+L4-(L1*L3*L_III)/L_I-L1**2./L_I-L4*L_III\n",
      "print L"
     ],
     "language": "python",
     "metadata": {},
     "outputs": [
      {
       "output_type": "stream",
       "stream": "stdout",
       "text": [
        "10.0099987506\n"
       ]
      }
     ],
     "prompt_number": 526
    },
    {
     "cell_type": "code",
     "collapsed": false,
     "input": [],
     "language": "python",
     "metadata": {},
     "outputs": [],
     "prompt_number": 526
    },
    {
     "cell_type": "code",
     "collapsed": false,
     "input": [
      "#total inductance circuit 2\n",
      "L_tot = (L1*L2+L1*L5+L4*L2+L4*L5)/(L1+L2+L4+L5)\n",
      "print L_tot"
     ],
     "language": "python",
     "metadata": {},
     "outputs": [
      {
       "output_type": "stream",
       "stream": "stdout",
       "text": [
        "10.01\n"
       ]
      }
     ],
     "prompt_number": 527
    },
    {
     "cell_type": "code",
     "collapsed": false,
     "input": [],
     "language": "python",
     "metadata": {},
     "outputs": [],
     "prompt_number": 527
    },
    {
     "cell_type": "code",
     "collapsed": false,
     "input": [
      "print L_tot - L"
     ],
     "language": "python",
     "metadata": {},
     "outputs": [
      {
       "output_type": "stream",
       "stream": "stdout",
       "text": [
        "1.24937546708e-06\n"
       ]
      }
     ],
     "prompt_number": 528
    },
    {
     "cell_type": "code",
     "collapsed": false,
     "input": [],
     "language": "python",
     "metadata": {},
     "outputs": [],
     "prompt_number": 419
    },
    {
     "cell_type": "code",
     "collapsed": false,
     "input": [],
     "language": "python",
     "metadata": {},
     "outputs": []
    }
   ],
   "metadata": {}
  }
 ]
}