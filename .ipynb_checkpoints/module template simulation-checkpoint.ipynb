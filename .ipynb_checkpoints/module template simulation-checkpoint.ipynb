{
 "cells": [
  {
   "cell_type": "code",
   "execution_count": 1,
   "metadata": {
    "collapsed": true
   },
   "outputs": [],
   "source": [
    "import sys \n",
    "import os\n",
    "sys.path.append(os.path.abspath(\"/home/pcs/patrick/Dokumente/Github/colormap/\"))\n",
    "import colormaps as cmaps\n"
   ]
  },
  {
   "cell_type": "code",
   "execution_count": 2,
   "metadata": {
    "collapsed": true
   },
   "outputs": [],
   "source": [
    "import numpy as np\n",
    "import scipy.constants as cs\n",
    "import scipy.special as ss\n",
    "from matplotlib import pyplot as plt\n",
    "from matplotlib import cm\n",
    "from qkit.qkit.gui.notebook.Progress_Bar import Progress_Bar as pb\n",
    "from scipy.integrate import dblquad\n",
    "from scipy import integrate\n",
    "\n",
    "%matplotlib inline"
   ]
  },
  {
   "cell_type": "code",
   "execution_count": 3,
   "metadata": {
    "collapsed": true
   },
   "outputs": [],
   "source": [
    "#customized plots:\n",
    "import matplotlib \n",
    "matplotlib.rc('font',**{'family':'sans-serif','sans-serif':['Helvetica']})\n",
    "## for Palatino and other serif fonts use:\n",
    "#rc('font',**{'family':'serif','serif':['Palatino']})\n",
    "matplotlib.rc('text', usetex=True)\n",
    "\n",
    "font = {'family' : 'normal',\n",
    "        'weight' : 'bold',\n",
    "        'size'   : 22}\n",
    "matplotlib.rc('font', **font)\n",
    "matplotlib.rcParams['figure.figsize'] = (8.0,5.0)\n",
    "matplotlib.rcParams['savefig.dpi'] = 200\n",
    "matplotlib.rcParams['legend.shadow'] = True\n",
    "matplotlib.rcParams['savefig.bbox'] = 'tight'\n",
    "\n",
    "\n",
    "cmap_virdis = cmaps.viridis.colors\n"
   ]
  },
  {
   "cell_type": "code",
   "execution_count": 4,
   "metadata": {
    "collapsed": true
   },
   "outputs": [],
   "source": [
    "labelsize = 27"
   ]
  },
  {
   "cell_type": "code",
   "execution_count": 5,
   "metadata": {
    "collapsed": true
   },
   "outputs": [],
   "source": [
    "mu_0 = cs.mu_0\n",
    "mu_B = cs.physical_constants['Bohr magneton'][0]   #Bohr magneton in SI units\n",
    "k_b = cs.k"
   ]
  },
  {
   "cell_type": "code",
   "execution_count": null,
   "metadata": {
    "collapsed": true
   },
   "outputs": [],
   "source": []
  }
 ],
 "metadata": {
  "kernelspec": {
   "display_name": "Python 2",
   "language": "python",
   "name": "python2"
  },
  "language_info": {
   "codemirror_mode": {
    "name": "ipython",
    "version": 2
   },
   "file_extension": ".py",
   "mimetype": "text/x-python",
   "name": "python",
   "nbconvert_exporter": "python",
   "pygments_lexer": "ipython2",
   "version": "2.7.6"
  }
 },
 "nbformat": 4,
 "nbformat_minor": 2
}
