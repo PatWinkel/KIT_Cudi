{
 "cells": [
  {
   "cell_type": "markdown",
   "metadata": {},
   "source": [
    "# calculation of the coupling capacitor:"
   ]
  },
  {
   "cell_type": "code",
   "execution_count": 6,
   "metadata": {
    "collapsed": true
   },
   "outputs": [],
   "source": [
    "from scipy.special import *\n",
    "from math import *\n",
    "import numpy as np  \n",
    "from scipy.constants import *\n",
    "import matplotlib.pyplot as plt"
   ]
  },
  {
   "cell_type": "code",
   "execution_count": 7,
   "metadata": {
    "collapsed": false
   },
   "outputs": [],
   "source": [
    "#import sympy as sy\n",
    "#x, y, z = symbols('x y z')\n",
    "#init_printing(use_unicode=True)"
   ]
  },
  {
   "cell_type": "code",
   "execution_count": 8,
   "metadata": {
    "collapsed": true
   },
   "outputs": [],
   "source": [
    "%matplotlib inline"
   ]
  },
  {
   "cell_type": "code",
   "execution_count": 9,
   "metadata": {
    "collapsed": true
   },
   "outputs": [],
   "source": [
    "def k_sinh(h,w,g):\n",
    "    return np.sinh(np.pi*w/(4.*h))/np.sinh(np.pi*(w+2.*g)/(4.*h)) "
   ]
  },
  {
   "cell_type": "code",
   "execution_count": 10,
   "metadata": {
    "collapsed": true
   },
   "outputs": [],
   "source": [
    "def k_tanh(h,w,g):\n",
    "    return np.tanh(np.pi*w/(4.*h))/np.tanh(np.pi*(w+2.*g)/(4.*h))"
   ]
  },
  {
   "cell_type": "code",
   "execution_count": 11,
   "metadata": {
    "collapsed": true
   },
   "outputs": [],
   "source": [
    "#complete elliptic integral of first kind\n",
    "def K(x):\n",
    "    return ellipk(x)\n",
    "\n",
    "def k_strich(x):\n",
    "    return np.sqrt(1.-x**2)"
   ]
  },
  {
   "cell_type": "code",
   "execution_count": 12,
   "metadata": {
    "collapsed": true
   },
   "outputs": [],
   "source": [
    "h1 = 350.\n",
    "h3 = 3000.\n",
    "h4 = 3000."
   ]
  },
  {
   "cell_type": "code",
   "execution_count": 13,
   "metadata": {
    "collapsed": true
   },
   "outputs": [],
   "source": [
    "def conformal(w,g):                            #calculates the inductance and capacitance per unit length\n",
    "    k1 = k_sinh(h1,w,g)\n",
    "    k3 = k_tanh(h3,w,g)\n",
    "    k4 = k_tanh(h4,w,g)\n",
    "    K1 = ellipk(k1)\n",
    "    K12 = ellipk((1-k1**2.)**0.5)\n",
    "    K3 = ellipk(k3)\n",
    "    K32 = ellipk((1-k3**2.)**0.5)\n",
    "    K4 = ellipk(k4)\n",
    "    K42 = ellipk((1-k4**2.)**0.5)\n",
    "    k0 = w/(w+2.*g)\n",
    "    k01 = (1-k0**2.)**0.5\n",
    "    K0 = ellipk(k0)\n",
    "    K01 = ellipk(k01)\n",
    "    q1 = (K1/K12)*(K3/K32 + K4/K42)**(-1)\n",
    "    eff = 1. + (e_r-1)*q1\n",
    "    C = 4*epsilon_0*eff*(K0/K01)\n",
    "    L = mu_0/4*(K01/K0)\n",
    "    return L, C"
   ]
  },
  {
   "cell_type": "code",
   "execution_count": 14,
   "metadata": {
    "collapsed": true
   },
   "outputs": [],
   "source": [
    "def imp_Al_CPW(w,g):                      #impedance Z for an Al CPW \n",
    "    L = conformal(w,g)[0]\n",
    "    C = conformal(w,g)[1]\n",
    "    Z = (L/C)**0.5\n",
    "    return Z"
   ]
  },
  {
   "cell_type": "code",
   "execution_count": 15,
   "metadata": {
    "collapsed": true
   },
   "outputs": [],
   "source": [
    "def cap_width(N,w_real,s):\n",
    "    return (N*w_real+(N-1)*s)"
   ]
  },
  {
   "cell_type": "code",
   "execution_count": 16,
   "metadata": {
    "collapsed": true
   },
   "outputs": [],
   "source": [
    "def s_G(N,w_real,s):                              #N: number of fingers, w_real: finger width, s: gap between finger\n",
    "    return (N*w_real+(N-1)*s)*ratio               #gap of the outermost fingers to the ground planes "
   ]
  },
  {
   "cell_type": "code",
   "execution_count": null,
   "metadata": {
    "collapsed": true
   },
   "outputs": [],
   "source": []
  },
  {
   "cell_type": "code",
   "execution_count": null,
   "metadata": {
    "collapsed": true
   },
   "outputs": [],
   "source": []
  },
  {
   "cell_type": "code",
   "execution_count": null,
   "metadata": {
    "collapsed": true
   },
   "outputs": [],
   "source": []
  },
  {
   "cell_type": "code",
   "execution_count": 17,
   "metadata": {
    "collapsed": true
   },
   "outputs": [],
   "source": [
    "#parameters of the finger capacitor:\n",
    "\n",
    "cw = 10.e-6\n",
    "cg = 6.e-6"
   ]
  },
  {
   "cell_type": "code",
   "execution_count": 18,
   "metadata": {
    "collapsed": true
   },
   "outputs": [],
   "source": [
    "ratio = cg/cw                    #ratio is a good approximation for widths smaller than 100 mu"
   ]
  },
  {
   "cell_type": "code",
   "execution_count": 19,
   "metadata": {
    "collapsed": true
   },
   "outputs": [],
   "source": [
    "N = 3.                              #number of fingers\n",
    "G = 3.e-6                            #gap at open finger end \n",
    "L = 100.e-6-2*G                         #overlap of the fingers"
   ]
  },
  {
   "cell_type": "code",
   "execution_count": 20,
   "metadata": {
    "collapsed": true
   },
   "outputs": [],
   "source": [
    "e_r = 11.9                          #dielectrical constant substrate:"
   ]
  },
  {
   "cell_type": "code",
   "execution_count": 21,
   "metadata": {
    "collapsed": false
   },
   "outputs": [],
   "source": [
    "#real finger width:\n",
    "w_real = 3.e-6\n",
    "#metal layer thickness:\n",
    "t = 100.e-9\n",
    "#effective finger width to account for the thickness of the metallization layer\n",
    "w = w_real+t/np.pi*(1+np.log(4*np.pi*w_real/t))"
   ]
  },
  {
   "cell_type": "code",
   "execution_count": 22,
   "metadata": {
    "collapsed": false
   },
   "outputs": [
    {
     "name": "stdout",
     "output_type": "stream",
     "text": [
      "thickness correction:  1.07355315592\n"
     ]
    }
   ],
   "source": [
    "print 'thickness correction: ',w/w_real"
   ]
  },
  {
   "cell_type": "code",
   "execution_count": 23,
   "metadata": {
    "collapsed": true
   },
   "outputs": [],
   "source": [
    "#finger gap/ space between finger\n",
    "s = 3.e-6\n",
    "\n",
    "#substrate height:\n",
    "h = 350.e-6"
   ]
  },
  {
   "cell_type": "code",
   "execution_count": 24,
   "metadata": {
    "collapsed": false
   },
   "outputs": [],
   "source": [
    "cap = cap_width(4,w_real,s)"
   ]
  },
  {
   "cell_type": "code",
   "execution_count": 25,
   "metadata": {
    "collapsed": false
   },
   "outputs": [
    {
     "name": "stdout",
     "output_type": "stream",
     "text": [
      "21.0\n"
     ]
    }
   ],
   "source": [
    "print cap*10**6"
   ]
  },
  {
   "cell_type": "code",
   "execution_count": 26,
   "metadata": {
    "collapsed": false,
    "scrolled": true
   },
   "outputs": [
    {
     "name": "stdout",
     "output_type": "stream",
     "text": [
      "gap = 16.2 mu\n"
     ]
    }
   ],
   "source": [
    "gap =  s_G(5,w_real,s)\n",
    "\n",
    "print 'gap = {} mu'.format(gap*10**6)"
   ]
  },
  {
   "cell_type": "code",
   "execution_count": 27,
   "metadata": {
    "collapsed": false
   },
   "outputs": [
    {
     "name": "stdout",
     "output_type": "stream",
     "text": [
      "s_g =  70.0 mu\n"
     ]
    }
   ],
   "source": [
    "#def s_g = (N*w_real+(N-1)*s)*ratio              #gap of the outermost fingers to the ground planes:\n",
    "s_g = 70.e-6\n",
    "print 's_g = ', s_g*10**6, 'mu' "
   ]
  },
  {
   "cell_type": "code",
   "execution_count": 28,
   "metadata": {
    "collapsed": false
   },
   "outputs": [],
   "source": [
    "k5 = np.sqrt(s_g/(w+s_g))\n",
    "k05 = np.sqrt(1.-k5**2.)\n",
    "k6 = np.sqrt((np.exp(np.pi*w/h)-1.)/(np.exp(np.pi*(w+s_g)/h)-1.))\n",
    "k06 = np.sqrt(1.-k6**2.)"
   ]
  },
  {
   "cell_type": "code",
   "execution_count": 29,
   "metadata": {
    "collapsed": false
   },
   "outputs": [
    {
     "name": "stdout",
     "output_type": "stream",
     "text": [
      "1.09640908336e-10 F/m\n"
     ]
    }
   ],
   "source": [
    "Ccpw1 = 2.*epsilon_0*K(k_strich(k5))/K(k5)+epsilon_0*(e_r-1.)*K(k6)/K(k_strich(k6))\n",
    "\n",
    "print 2*Ccpw1, 'F/m'"
   ]
  },
  {
   "cell_type": "code",
   "execution_count": 30,
   "metadata": {
    "collapsed": false
   },
   "outputs": [
    {
     "name": "stdout",
     "output_type": "stream",
     "text": [
      "C1 =  1.06351681086e-14\n"
     ]
    }
   ],
   "source": [
    "#capcitance at the left port (more fingers if the total number is odd)\n",
    "C1 = 2.*Ccpw1*(L+G)\n",
    "\n",
    "print \"C1 = \", C1"
   ]
  },
  {
   "cell_type": "code",
   "execution_count": 31,
   "metadata": {
    "collapsed": false
   },
   "outputs": [
    {
     "name": "stdout",
     "output_type": "stream",
     "text": [
      "C2 =  5.31758405431e-15\n"
     ]
    }
   ],
   "source": [
    "#capacitance at the right port:\n",
    "C2 = C1/2.\n",
    "\n",
    "print \"C2 = \", C2"
   ]
  },
  {
   "cell_type": "code",
   "execution_count": 32,
   "metadata": {
    "collapsed": false
   },
   "outputs": [
    {
     "name": "stdout",
     "output_type": "stream",
     "text": [
      "capacitance per unit length: C_l =  2.05952000024e-11 F/m\n"
     ]
    }
   ],
   "source": [
    "#comparison to cpw:\n",
    "w_cpw = 3.e-6\n",
    "g_cpw = s_g+w+g\n",
    "\n",
    "k0 = w_cpw/(w_cpw+2.*g_cpw)\n",
    "k01 = (1.-k0**2.)**0.5\n",
    "K0 = ellipk(k0)\n",
    "K01 = ellipk(k01)\n",
    "\n",
    "e1=11.9\n",
    "\n",
    "eff1 = (1+e1)/2\n",
    "\n",
    "C_l = 4*epsilon_0*eff1*(K0/K01)\n",
    "\n",
    "print 'capacitance per unit length: C_l = ', C_l, 'F/m'"
   ]
  },
  {
   "cell_type": "code",
   "execution_count": 33,
   "metadata": {
    "collapsed": false
   },
   "outputs": [
    {
     "name": "stdout",
     "output_type": "stream",
     "text": [
      "0.8259829208\n",
      "0.826034655334\n",
      "C3 = 12.2749957688 fF\n"
     ]
    }
   ],
   "source": [
    "#C3: finger capacitor with 3 finger:\n",
    "correctionk1 = np.sqrt((1-((w+2*s)/(3*w+2*s))**2.)/(1-(w/(3*w+2*s))**2))\n",
    "k1 = (w/(w+2*s))*correctionk1\n",
    "correctionk2 = np.sqrt((np.sinh(np.pi*(3*w+2*s)/(4*h))**2-np.sinh(np.pi*(w+2*s)/(4*h))**2)/(np.sinh(np.pi*(3*w+2*s)/(4*h))**2-np.sinh(np.pi*(w)/(4*h))**2))\n",
    "k2 = np.sinh(np.pi*w/(4*h))/np.sinh(np.pi*(w+2*s)/(4*h))*correctionk2\n",
    "q1 = K(k_strich(k1))*K(k2)/(K(k1)*K(k_strich(k2)))\n",
    "e_eff = 1.+q1*(e_r-1.)/2.\n",
    "C3 = 4*epsilon_0*e_eff*K(k1)/K(k_strich(k1))*L\n",
    "\n",
    "print correctionk1\n",
    "print correctionk2\n",
    "print 'C3 =', C3*10**15, 'fF'"
   ]
  },
  {
   "cell_type": "code",
   "execution_count": 34,
   "metadata": {
    "collapsed": false
   },
   "outputs": [],
   "source": [
    "#CN: (N-3) periodical structure\n",
    "k3 = w/(w+s)\n",
    "correctionk4 = np.sqrt((np.cosh(np.pi*(w+s)/(4*h))**2+np.sinh(np.pi*(w+s)/(4*h))**2)/(np.cosh(np.pi*(w)/(4*h))**2+np.sinh(np.pi*(w+s)/(4*h))**2))\n",
    "k4 = np.sinh(np.pi*w/(4*h))/np.sinh(np.pi*(w+2*s)/(4*h))*correctionk4\n",
    "q_N = K(k_strich(k3))*K(k4)/(K(k3)*K(k_strich(k4)))\n",
    "e_N = 1.+q_N*(e_r-1.)/2.\n",
    "CN = (N-3)*epsilon_0*e_N*K(k3)/K(k_strich(k3))*L\n",
    "\n",
    "#print 'q_N =', q_N"
   ]
  },
  {
   "cell_type": "code",
   "execution_count": 35,
   "metadata": {
    "collapsed": false
   },
   "outputs": [],
   "source": [
    "#C_end: capacitance of the fingers open ends \n",
    "# only valid for G/(w+2*s) < 0.2\n",
    "e_oe = (e_r+1.)/2.\n",
    "nu = G/(w+s)\n",
    "C_oe1 = 2*(epsilon_0/np.pi)*((w+s)*(np.log(np.sqrt(1.+nu**2.)*nu)/nu+np.log((np.sqrt(1+nu**2)+1)/nu)-1/3*(1/(1+np.sqrt(1+nu**2.))+1/(nu+np.sqrt(1+nu**2))))-(w+2/3*s))\n",
    "C_oe = e_oe*C_oe1\n",
    "\n",
    "\n",
    "C_end = N*C_oe"
   ]
  },
  {
   "cell_type": "code",
   "execution_count": 36,
   "metadata": {
    "collapsed": false
   },
   "outputs": [],
   "source": [
    "#C_end: different approach:\n",
    "ground = 10.e-6\n",
    "k_1end = np.sinh(np.pi*w/(4*h))/np.sinh(np.pi*(w+G)/(4*h))\n",
    "correctionk0 = np.sqrt((1.-((w+G)/(w+ground+G))**2.)/(1.-((w)/(w+ground+G))**2.))\n",
    "k_0end = w/(w+G)*correctionk0\n",
    "q_end = K(k_1end)*K(k_strich(k_0end))/(K(k_strich(k_1end))*K(k_0end))\n",
    "e_end = 1+q_end*(e_r-1.)/2.\n",
    "\n",
    "\n",
    "C_end2 = 4*N*w*(1+np.pi/2)*epsilon_0*e_end*K(k_0end)/K(k_strich(k_0end))"
   ]
  },
  {
   "cell_type": "code",
   "execution_count": 37,
   "metadata": {
    "collapsed": false
   },
   "outputs": [
    {
     "name": "stdout",
     "output_type": "stream",
     "text": [
      "C_end2 = 4.38228980511 fF\n",
      "C_N = 0.0 fF\n",
      "\n",
      "k1 = 0.288505363785\n",
      "k2 = 0.288505359321\n",
      "k3 = 0.517736018898\n",
      "k4 = 0.349290344499\n",
      "k5 = 0.977759855002\n",
      "k6 = 0.177643829349\n",
      "C1 = 10.6351681086 fF\n",
      "C2 = 5.31758405431 fF\n",
      "Cs = 16.6572855739 fF\n",
      "C = 14.6659777405 fF\n",
      "14.6659777405 fF\n",
      "32.6100377369 fF\n"
     ]
    }
   ],
   "source": [
    "print 'C_end2 =', C_end2*10**15, 'fF'\n",
    "print 'C_N =', CN*10**15, 'fF'\n",
    "print\n",
    "print 'k1 =', k1\n",
    "print 'k2 =', k2\n",
    "print 'k3 =', k3\n",
    "print 'k4 =', k4\n",
    "print 'k5 =', k5\n",
    "print 'k6 =', k6\n",
    "\n",
    "Cs = C3 + CN + C_end2\n",
    "print 'C1 =',C1*10**15, 'fF'\n",
    "print 'C2 =',C2*10**15, 'fF'\n",
    "print 'Cs =',Cs*10**15, 'fF'\n",
    "Cc = C1 + 1/(1/Cs + 1/C2)\n",
    "Cc2 = C1+Cs+C2\n",
    "\n",
    "C = (C1+C2+C1*C2/Cs)/(1+C2/Cs)\n",
    "\n",
    "print 'C =', C*10**15, 'fF'\n",
    "print Cc*10**15, 'fF'\n",
    "print Cc2*10**15, 'fF'"
   ]
  },
  {
   "cell_type": "code",
   "execution_count": 38,
   "metadata": {
    "collapsed": false
   },
   "outputs": [
    {
     "name": "stdout",
     "output_type": "stream",
     "text": [
      "9e-06\n"
     ]
    }
   ],
   "source": [
    "print s_G(3,3.e-6,3.e-6)"
   ]
  },
  {
   "cell_type": "code",
   "execution_count": 39,
   "metadata": {
    "collapsed": false
   },
   "outputs": [
    {
     "name": "stdout",
     "output_type": "stream",
     "text": [
      "15.089083317\n",
      "14.7320502431\n",
      "kInf = 0.707106781187\n",
      "kEinf = 0.942809041582\n",
      "CI = 12.0794705621 fF\n",
      "CE = 18.8774188091 fF\n",
      "32.8512560862\n",
      "kInf = 0.707106781187\n",
      "kEinf = 0.942809041582\n",
      "CI = 12.0794705621 fF\n",
      "CE = 18.8774188091 fF\n",
      "26.8115208051\n",
      "27.4982577441\n"
     ]
    }
   ],
   "source": [
    "def get_C_idc(W,G,L,N): #  W:Width, G:Gap, L:Length, N:number electrodes\n",
    "         lam = 2*(W+G)\n",
    "         eta = 2*W/lam\n",
    "         kEinf = 2*eta**0.5/(1+eta)\n",
    "         k_pEinf = (1.-kEinf**2)\n",
    "         kIinf = np.sin(pi/2*eta)\n",
    "         k_pIinf = (1.-kIinf**2)\n",
    "         CI = epsilon_0*L*(1.+11.9)*ellipk(kIinf)/ellipk(k_pIinf)\n",
    "         CE = epsilon_0*L*(1.+11.9)*ellipk(kEinf)/ellipk(k_pEinf)\n",
    "         C_idc = (N-3)*CI/2+2*CI*CE/(CI+CE)\n",
    "         return C_idc*1e15 # fF\n",
    "\n",
    "def get_C_idc_few(W,G,L,N): #  W:Width, G:Gap, L:Length, N:number electrodes\n",
    "         lam = 2*(W+G)\n",
    "         eta = 2*W/lam\n",
    "         kEinf = 2*eta**0.5/(1+eta)\n",
    "         k_pEinf = (1-kEinf**2)\n",
    "         kIinf = np.sin(pi/2*eta)\n",
    "         print 'kInf =', kIinf\n",
    "         print 'kEinf =', kEinf\n",
    "         k_pIinf = (1-kIinf**2)\n",
    "         CI = epsilon_0*L*(1.+11.9)*ellipk(kIinf)/ellipk(k_pIinf)\n",
    "         CE = epsilon_0*L*(1.+11.9)*ellipk(kEinf)/ellipk(k_pEinf)\n",
    "         print 'CI =', CI*10**15, 'fF'\n",
    "         print 'CE =', CE*10**15, 'fF'\n",
    "         C_idc = N*CI/2.+2.*CI*CE/(CI+CE)\n",
    "         return C_idc*1e15 # fF\n",
    "        \n",
    "print get_C_idc(w,s,L,N)\n",
    "print get_C_idc(w_real,s,L,N) \n",
    "print get_C_idc_few(w_real,s,L,N)\n",
    "\n",
    "\n",
    "print get_C_idc_few(w_real,s,L,2)\n",
    "\n",
    "\n",
    "print get_C_idc(w,s,L,5)"
   ]
  },
  {
   "cell_type": "code",
   "execution_count": null,
   "metadata": {
    "collapsed": true
   },
   "outputs": [],
   "source": []
  },
  {
   "cell_type": "markdown",
   "metadata": {},
   "source": [
    "# Analytical formula functions"
   ]
  },
  {
   "cell_type": "code",
   "execution_count": 108,
   "metadata": {
    "collapsed": false
   },
   "outputs": [],
   "source": [
    "def overlap(L,G):\n",
    "    return L-2*G                     #length of finger overlap"
   ]
  },
  {
   "cell_type": "code",
   "execution_count": 97,
   "metadata": {
    "collapsed": true
   },
   "outputs": [],
   "source": [
    "#capcitance at the left port (more fingers if the total number is odd)\n",
    "def C1(w,s_g,overlap,G):\n",
    "        k5 = np.sqrt(s_g/(w+s_g))\n",
    "        k6 = np.sqrt((np.exp(np.pi*w/h)-1.)/(np.exp(np.pi*(w+s_g)/h)-1.))\n",
    "        Ccpw1 = 2.*epsilon_0*K(k_strich(k5))/K(k5)+epsilon_0*(e_r-1.)*K(k6)/K(k_strich(k6))\n",
    "        print 'C_cpw1 =', Ccpw1*10**12, 'pF/m'\n",
    "        return 2.*Ccpw1*(overlap+G)"
   ]
  },
  {
   "cell_type": "code",
   "execution_count": 107,
   "metadata": {
    "collapsed": true
   },
   "outputs": [],
   "source": [
    "def k0(w,s):\n",
    "    return w/(w+2.*s)"
   ]
  },
  {
   "cell_type": "code",
   "execution_count": 106,
   "metadata": {
    "collapsed": true
   },
   "outputs": [],
   "source": [
    "def C_end2(N,ground,w,G):\n",
    "    k_1end = np.sinh(np.pi*w/(4*h))/np.sinh(np.pi*(w+G)/(4*h))\n",
    "    correctionk0 = np.sqrt((1.-((w+G)/(w+ground+G))**2.)/(1.-((w)/(w+ground+G))**2.))\n",
    "    k_0end = w/(w+G)*correctionk0\n",
    "    q_end = K(k_1end)*K(k_strich(k_0end))/(K(k_strich(k_1end))*K(k_0end))\n",
    "    e_end = 1+q_end*(e_r-1.)/2.\n",
    "    return 4*N*w*(1+np.pi/2)*epsilon_0*e_end*K(k_0end)/K(k_strich(k_0end))"
   ]
  },
  {
   "cell_type": "code",
   "execution_count": 105,
   "metadata": {
    "collapsed": true
   },
   "outputs": [],
   "source": [
    "def C_end3(N,ground,w,s,G):\n",
    "    x = 0.25*s\n",
    "    k_1end = np.sinh(np.pi*x/(4*h))/np.sinh(np.pi*(x+G)/(4*h))\n",
    "    correctionk0 = np.sqrt((1.-((x+G)/(x+ground+G))**2.)/(1.-((x)/(x+ground+G))**2.))\n",
    "    k_0end = x/(x+G)*correctionk0\n",
    "    q_end = K(k_1end)*K(k_strich(k_0end))/(K(k_strich(k_1end))*K(k_0end))\n",
    "    e_end = (e_r+1)/2.\n",
    "    return 4*N*s*(1+np.pi/2)*epsilon_0*e_end*K(k_0end)/K(k_strich(k_0end))"
   ]
  },
  {
   "cell_type": "code",
   "execution_count": 104,
   "metadata": {
    "collapsed": true
   },
   "outputs": [],
   "source": [
    "\n",
    "def Cs(C3,CN,C_end):\n",
    "    return C3+CN+C_end"
   ]
  },
  {
   "cell_type": "code",
   "execution_count": 103,
   "metadata": {
    "collapsed": true
   },
   "outputs": [],
   "source": [
    "#C3: finger capacitor with 3 finger:\n",
    "def C3(w,s,overlap):\n",
    "    correctionk1 = np.sqrt((1-((w+2*s)/(3*w+2*s))**2.)/(1-(w/(3*w+2*s))**2))\n",
    "    k1 = (w/(w+2*s))*correctionk1\n",
    "    correctionk2 = np.sqrt((np.sinh(np.pi*(3*w+2*s)/(4*h))**2-np.sinh(np.pi*(w+2*s)/(4*h))**2)/(np.sinh(np.pi*(3*w+2*s)/(4*h))**2-np.sinh(np.pi*(w)/(4*h))**2))\n",
    "    k2 = np.sinh(np.pi*w/(4*h))/np.sinh(np.pi*(w+2*s)/(4*h))*correctionk2\n",
    "    q1 = K(k_strich(k1))*K(k2)/(K(k1)*K(k_strich(k2)))\n",
    "    e_eff = 1.+q1*(e_r-1.)/2.\n",
    "    return 4*epsilon_0*e_eff*K(k1)/K(k_strich(k1))*overlap"
   ]
  },
  {
   "cell_type": "code",
   "execution_count": 102,
   "metadata": {
    "collapsed": true
   },
   "outputs": [],
   "source": [
    "#CN: (N-3) periodical structure\n",
    "def CN(N,w,s,overlap):\n",
    "    k3 = w/(w+s)\n",
    "    correctionk4 = np.sqrt((np.cosh(np.pi*(w+s)/(4*h))**2+np.sinh(np.pi*(w+s)/(4*h))**2)/(np.cosh(np.pi*(w)/(4*h))**2+np.sinh(np.pi*(w+s)/(4*h))**2))\n",
    "    k4 = np.sinh(np.pi*w/(4*h))/np.sinh(np.pi*(w+2*s)/(4*h))*correctionk4\n",
    "    q_N = K(k_strich(k3))*K(k4)/(K(k3)*K(k_strich(k4)))\n",
    "    e_N = 1.+q_N*(e_r-1.)/2.\n",
    "    return (N-3)*epsilon_0*e_N*K(k3)/K(k_strich(k3))*overlap"
   ]
  },
  {
   "cell_type": "code",
   "execution_count": 48,
   "metadata": {
    "collapsed": true
   },
   "outputs": [],
   "source": [
    "def Q_L(f_res,deltaf):\n",
    "    return f_res/deltaf"
   ]
  },
  {
   "cell_type": "code",
   "execution_count": 49,
   "metadata": {
    "collapsed": true
   },
   "outputs": [],
   "source": [
    "def Q_ext(Q_int,Q_L):\n",
    "    return Q_int*Q_L/(Q_int - Q_L)"
   ]
  },
  {
   "cell_type": "code",
   "execution_count": 50,
   "metadata": {
    "collapsed": true
   },
   "outputs": [],
   "source": [
    "def Ccoupling(L,wres,Q_ext):\n",
    "    Z_0 = 50.\n",
    "    A = 1/(L*wres**4.*Z_0**2.*Q_ext**2.)\n",
    "    solve(x**4.-A*x-A*C,x)"
   ]
  },
  {
   "cell_type": "code",
   "execution_count": 51,
   "metadata": {
    "collapsed": true
   },
   "outputs": [],
   "source": [
    "#resonance frequency of a coupled resonator (L2 is the additional inductance due to the coupling capacitor)\n",
    "def fresc(L_l,C_l,l,Cc,C2,L2):\n",
    "    Z_0 = 50.\n",
    "    fres = c/(4.*l*eff1**0.5)\n",
    "    L = 8*L_l*l/np.pi**2\n",
    "    C = C_l*l/2\n",
    "    C_star = Cc/(1+(2*np.pi*fres*Cc*Z_0)**2)\n",
    "    return 1/(2*np.pi*np.sqrt((L+L2)*(C+C_star+C2)))"
   ]
  },
  {
   "cell_type": "code",
   "execution_count": null,
   "metadata": {
    "collapsed": true
   },
   "outputs": [],
   "source": []
  },
  {
   "cell_type": "markdown",
   "metadata": {},
   "source": [
    "# example I"
   ]
  },
  {
   "cell_type": "code",
   "execution_count": 52,
   "metadata": {
    "collapsed": true
   },
   "outputs": [],
   "source": [
    "N1 = 4.\n",
    "G1 = 10e-6\n",
    "L1 = 60e-6\n",
    "w_real1 = 15e-6\n",
    "g1 = 10e-6"
   ]
  },
  {
   "cell_type": "code",
   "execution_count": 53,
   "metadata": {
    "collapsed": false
   },
   "outputs": [
    {
     "name": "stdout",
     "output_type": "stream",
     "text": [
      "width correction due to the finit layer thickness:  0.931486246848\n"
     ]
    }
   ],
   "source": [
    "t1 = 100.e-9                         #metal layer thickness:\n",
    "\n",
    "w1 = w_real1+t1/np.pi*(1+np.log(4.*np.pi*w_real1/t1))     #effective finger width (due to finit layer thickness)\n",
    "\n",
    "print 'width correction due to the finit layer thickness: ',w_real/w"
   ]
  },
  {
   "cell_type": "code",
   "execution_count": 83,
   "metadata": {
    "collapsed": true
   },
   "outputs": [],
   "source": [
    "wt = N1*w_real1+N1*g1"
   ]
  },
  {
   "cell_type": "code",
   "execution_count": 85,
   "metadata": {
    "collapsed": true
   },
   "outputs": [],
   "source": [
    "g_TL = np.linspace(45e-6,55e-6,100)"
   ]
  },
  {
   "cell_type": "code",
   "execution_count": 84,
   "metadata": {
    "collapsed": false
   },
   "outputs": [
    {
     "data": {
      "text/plain": [
       "0.0001"
      ]
     },
     "execution_count": 84,
     "metadata": {},
     "output_type": "execute_result"
    }
   ],
   "source": [
    "imp_Al_CPW(wt,50e-6)"
   ]
  },
  {
   "cell_type": "code",
   "execution_count": 92,
   "metadata": {
    "collapsed": false
   },
   "outputs": [
    {
     "data": {
      "text/plain": [
       "<matplotlib.lines.Line2D at 0x81582d0>"
      ]
     },
     "execution_count": 92,
     "metadata": {},
     "output_type": "execute_result"
    },
    {
     "data": {
      "image/png": "[encoded data removed]",
      "text/plain": [
       "<matplotlib.figure.Figure at 0x77f46f0>"
      ]
     },
     "metadata": {},
     "output_type": "display_data"
    }
   ],
   "source": [
    "plt.plot(g_TL, imp_Al_CPW(wt, g_TL))\n",
    "plt.axhline(50, color = 'black')\n",
    "plt.axvline(53.8e-6, color = 'red')"
   ]
  },
  {
   "cell_type": "code",
   "execution_count": 93,
   "metadata": {
    "collapsed": true
   },
   "outputs": [],
   "source": [
    "G_TL = 54e-6"
   ]
  },
  {
   "cell_type": "code",
   "execution_count": 100,
   "metadata": {
    "collapsed": false
   },
   "outputs": [
    {
     "name": "stdout",
     "output_type": "stream",
     "text": [
      "C_cpw1 = 53.4328602975 pF/m\n",
      "C2 = 6.73254039748 fF\n"
     ]
    }
   ],
   "source": [
    "#capacitance at the right port:\n",
    "\n",
    "C2 = C1(w/2.,G_TL,L1,G)\n",
    "print 'C2 =', C2*10**15, 'fF'"
   ]
  },
  {
   "cell_type": "code",
   "execution_count": 111,
   "metadata": {
    "collapsed": false
   },
   "outputs": [
    {
     "data": {
      "text/plain": [
       "8.8576649398761444e-15"
      ]
     },
     "execution_count": 111,
     "metadata": {},
     "output_type": "execute_result"
    }
   ],
   "source": [
    "C3(w1,G1,L1)"
   ]
  },
  {
   "cell_type": "code",
   "execution_count": 112,
   "metadata": {
    "collapsed": false
   },
   "outputs": [
    {
     "data": {
      "text/plain": [
       "1.2395266060533363e-14"
      ]
     },
     "execution_count": 112,
     "metadata": {},
     "output_type": "execute_result"
    }
   ],
   "source": [
    "CN(N,w1,G1,L1)"
   ]
  },
  {
   "cell_type": "code",
   "execution_count": 117,
   "metadata": {
    "collapsed": false
   },
   "outputs": [
    {
     "data": {
      "text/plain": [
       "2.3138401207282323e-14"
      ]
     },
     "execution_count": 117,
     "metadata": {},
     "output_type": "execute_result"
    }
   ],
   "source": [
    "C_end3(N,G_TL,w1,G1, G1)"
   ]
  },
  {
   "cell_type": "code",
   "execution_count": 118,
   "metadata": {
    "collapsed": false
   },
   "outputs": [],
   "source": [
    "Cs1 = Cs(C3(w1,G1,L1),CN(N,w1,G1,L1),C_end3(N,G_TL,w1,G1, G1))"
   ]
  },
  {
   "cell_type": "code",
   "execution_count": 119,
   "metadata": {
    "collapsed": false
   },
   "outputs": [
    {
     "name": "stdout",
     "output_type": "stream",
     "text": [
      "4.43913322077e-14\n"
     ]
    }
   ],
   "source": [
    "print Cs1"
   ]
  },
  {
   "cell_type": "code",
   "execution_count": null,
   "metadata": {
    "collapsed": true
   },
   "outputs": [],
   "source": []
  },
  {
   "cell_type": "markdown",
   "metadata": {},
   "source": [
    "# example II"
   ]
  },
  {
   "cell_type": "code",
   "execution_count": 54,
   "metadata": {
    "collapsed": true
   },
   "outputs": [],
   "source": [
    "h = 350.e-6                         #substrate height:"
   ]
  },
  {
   "cell_type": "code",
   "execution_count": 55,
   "metadata": {
    "collapsed": true
   },
   "outputs": [],
   "source": [
    "#parameters of the finger capacitor:\n",
    "N = 3.                               #number of fingers\n",
    "G = 3.e-6                            #gap at open finger end \n",
    "L = 80.e-6                           #finger length"
   ]
  },
  {
   "cell_type": "code",
   "execution_count": 56,
   "metadata": {
    "collapsed": true
   },
   "outputs": [],
   "source": [
    "overlap1 = overlap(L,G)"
   ]
  },
  {
   "cell_type": "code",
   "execution_count": 57,
   "metadata": {
    "collapsed": false
   },
   "outputs": [
    {
     "name": "stdout",
     "output_type": "stream",
     "text": [
      "width correction due to the finit layer thickness:  0.931486246848\n"
     ]
    }
   ],
   "source": [
    "e_r = 11.9                          #dielectrical constant substrate:\n",
    "\n",
    "w_real = 3.e-6                      #real finger width:\n",
    "s = 3.e-6                           #finger gap width\n",
    "ground = 10.e-6                     #finger base polygon thickness\n",
    "\n",
    "t = 100.e-9                         #metal layer thickness:\n",
    "\n",
    "w = w_real+t/np.pi*(1+np.log(4*np.pi*w_real/t))     #effective finger width (due to finit layer thickness)\n",
    "\n",
    "print 'width correction due to the finit layer thickness: ',w_real/w"
   ]
  },
  {
   "cell_type": "code",
   "execution_count": 58,
   "metadata": {
    "collapsed": true
   },
   "outputs": [],
   "source": [
    "s_g1 = s_G(N,w_real,s)"
   ]
  },
  {
   "cell_type": "code",
   "execution_count": 59,
   "metadata": {
    "collapsed": false
   },
   "outputs": [
    {
     "name": "stdout",
     "output_type": "stream",
     "text": [
      "C_cpw1 = 87.2545314531 pF/m\n",
      "C2 = 6.71859892189 fF\n"
     ]
    }
   ],
   "source": [
    "#capacitance at the right port:\n",
    "\n",
    "C2 = C1(w,s_g1,overlap1,G)/2.\n",
    "print 'C2 =', C2*10**15, 'fF'"
   ]
  },
  {
   "cell_type": "code",
   "execution_count": 60,
   "metadata": {
    "collapsed": false
   },
   "outputs": [
    {
     "name": "stdout",
     "output_type": "stream",
     "text": [
      "capacitance per unit length(CPW) for w = 3.0 mu and g = 15.2206594678 mu: C_l =  8.8589377263e-11 F/m\n",
      "C_2# = 7.08715018104 fF\n"
     ]
    }
   ],
   "source": [
    "##########################################################\n",
    "#comparison to cpw: assumption for the second parasitaric capacitance to ground (C2)\n",
    "w_cpw = 3.e-6                    #width cpw\n",
    "g_cpw = s_g1+w+s                  #only a good assumption for n = 3\n",
    "\n",
    "e1=11.9\n",
    "\n",
    "eff1 = (1+e1)/2\n",
    "\n",
    "C_l = 4*epsilon_0*eff1*(K(k0(w_cpw,g_cpw))/K(k_strich(k0(w_cpw,g_cpw))))\n",
    "\n",
    "print 'capacitance per unit length(CPW) for w =',w_cpw*10**6,'mu and g =',g_cpw*10**6,'mu: C_l = ', C_l, 'F/m'\n",
    "C2_strich = C_l*L\n",
    "print 'C_2# =', C2_strich*10**15, 'fF'"
   ]
  },
  {
   "cell_type": "code",
   "execution_count": 61,
   "metadata": {
    "collapsed": false
   },
   "outputs": [
    {
     "name": "stdout",
     "output_type": "stream",
     "text": [
      "inductance per unit length(CPW):L_l 8.10096321169e-07\n",
      "==> L_2# = 6.48077056935e-11\n"
     ]
    }
   ],
   "source": [
    "#additional inductance:\n",
    "L_l = mu_0/4*(K(k_strich(k0(w_cpw,g_cpw)))/K(k0(w_cpw,g_cpw)))\n",
    "\n",
    "\n",
    "print 'inductance per unit length(CPW):L_l',L_l\n",
    "L2 = L_l*L\n",
    "print '==> L_2# =',L2 "
   ]
  },
  {
   "cell_type": "code",
   "execution_count": 62,
   "metadata": {
    "collapsed": false
   },
   "outputs": [
    {
     "name": "stdout",
     "output_type": "stream",
     "text": [
      "C3 = 9.66329454141 fF\n"
     ]
    }
   ],
   "source": [
    "print 'C3 =', C3(w,s,overlap1)*10**15, 'fF'"
   ]
  },
  {
   "cell_type": "code",
   "execution_count": 63,
   "metadata": {
    "collapsed": true
   },
   "outputs": [],
   "source": [
    "#C_end: capacitance of the fingers open ends \n",
    "# only valid for G/(w+2*s) < 0.2\n",
    "e_oe = (e_r+1.)/2.\n",
    "nu = G/(w+s)\n",
    "C_oe1 = 2*(epsilon_0/np.pi)*((w+s)*(np.log(np.sqrt(1.+nu**2.)*nu)/nu+np.log((np.sqrt(1+nu**2)+1)/nu)-1/3*(1/(1+np.sqrt(1+nu**2.))+1/(nu+np.sqrt(1+nu**2))))-(w+2/3*s))\n",
    "C_oe = e_oe*C_oe1\n",
    "C_end = N*C_oe"
   ]
  },
  {
   "cell_type": "code",
   "execution_count": 64,
   "metadata": {
    "collapsed": false
   },
   "outputs": [
    {
     "name": "stdout",
     "output_type": "stream",
     "text": [
      "C_end2 = 4.38228980511 fF\n",
      "C_N = 0.0 fF\n",
      "Cs = 14.0455843465 fF\n"
     ]
    }
   ],
   "source": [
    "#C_end: different approach:\n",
    "\n",
    "print 'C_end2 =', C_end2(N,ground,w,G)*10**15, 'fF'\n",
    "print 'C_N =', CN(N,w,s,overlap1)*10**15, 'fF'\n",
    "\n",
    "\n",
    "Cs1 = Cs(C3(w,s,overlap1),CN(N,w,s,overlap1),C_end2(N,ground,w,G))\n",
    "print 'Cs =',Cs1*10**15, 'fF'"
   ]
  },
  {
   "cell_type": "code",
   "execution_count": 65,
   "metadata": {
    "collapsed": false
   },
   "outputs": [
    {
     "name": "stdout",
     "output_type": "stream",
     "text": [
      "C_cpw1 = 87.2545314531 pF/m\n",
      "C_cpw1 = 87.2545314531 pF/m\n"
     ]
    }
   ],
   "source": [
    "Cc = C1(w,s_g1,overlap1,G) + 1/(1/Cs1 + 1/C2)\n",
    "Cc2 = C1(w,s_g1,overlap1,G)+Cs1+C2\n",
    "\n",
    "\n",
    "#C = (C1(w,s_g1,overlap1,G)+C2+C1(w,s_g1,overlap1,G)*C2/Cs1)/(1+C2/Cs1)"
   ]
  },
  {
   "cell_type": "code",
   "execution_count": 66,
   "metadata": {
    "collapsed": true
   },
   "outputs": [],
   "source": [
    "#quality factor:\n",
    "\n",
    "losstan = 0.004\n",
    "Q_int = 1/losstan"
   ]
  },
  {
   "cell_type": "code",
   "execution_count": 67,
   "metadata": {
    "collapsed": false
   },
   "outputs": [
    {
     "name": "stdout",
     "output_type": "stream",
     "text": [
      "gap of the outermost fingers to ground: s_g =  36.0 mu\n",
      "C_l (resonator) = 1.63677498973e-10 F/m\n",
      "L_l (resonator) = 4.38459342705e-07 H/m\n"
     ]
    }
   ],
   "source": [
    "#######################introducing the resonator: ###########################\n",
    "#connected CPW:\n",
    "cw = 10.e-6            \n",
    "cg = 6.e-6\n",
    "\n",
    "ratio = cg/cw\n",
    "\n",
    "s_g1 = 36.e-6\n",
    "print 'gap of the outermost fingers to ground: s_g = ', s_g1*10**6, 'mu' \n",
    "\n",
    "w_res = 10.e-6                    #cpw width\n",
    "g_res = 6.e-6                     #cpw gap\n",
    "l_res = 2511.e-6                  #cpw length\n",
    "\n",
    "e1=11.9\n",
    "\n",
    "eff1 = (1+e1)/2\n",
    "\n",
    "C_lres = 4*epsilon_0*eff1*(K(k0(w_res,g_res))/K(k_strich(k0(w_res,g_res))))\n",
    "L_lres = mu_0/4*(K(k_strich(k0(w_res,g_res)))/K(k0(w_res,g_res)))\n",
    "\n",
    "print 'C_l (resonator) =', C_lres, 'F/m'\n",
    "print 'L_l (resonator) =', L_lres, 'H/m'\n",
    "\n",
    "L = 8*L_lres*l_res/np.pi**2\n",
    "C = C_l*l_res/2\n",
    "Z_0 = 50."
   ]
  },
  {
   "cell_type": "code",
   "execution_count": 68,
   "metadata": {
    "collapsed": false
   },
   "outputs": [
    {
     "name": "stdout",
     "output_type": "stream",
     "text": [
      "coupling capacitor: N = 3, l_finger = 80mu, s_g = 30 mu\n",
      "\n",
      "\n",
      "coupled resonator:\n",
      "Cs = 12.248193912 fF\n",
      "C2 = 6.71859892189 fF\n",
      "f_res (s_g = 30 mu) = 11.2457371673 GHz\n",
      "f_sim = 11.256 GHz\n",
      "\n",
      "corrected Cs = 14.0455843465 fF\n"
     ]
    }
   ],
   "source": [
    "#first coupling capacitor: N = 3, sg = 30 mu\n",
    "\n",
    "print 'coupling capacitor: N = 3, l_finger = 80mu, s_g = 30 mu'\n",
    "print\n",
    "print\n",
    "\n",
    "\n",
    "\n",
    "Cs2 = Cs(C3(w,s,overlap1),CN(N,w,s,overlap1),C_end3(N,ground,w,s,G))\n",
    "\n",
    "print 'coupled resonator:'\n",
    "print 'Cs =', Cs2*10**15, 'fF'\n",
    "print 'C2 =', C2*10**15, 'fF'\n",
    "print 'f_res (s_g = 30 mu) =', fresc(L_lres,C_lres,l_res,Cs2,C2,0)*10**(-9), 'GHz'\n",
    "print 'f_sim =', 11.256,'GHz'\n",
    "print\n",
    "C_s_tilde2 = Cs1/(1+(w_res*Z_0*Cs1)**2/(1+(w_res*2*C2*Z_0)**2))\n",
    "print 'corrected Cs =', C_s_tilde2*10**15, 'fF'"
   ]
  },
  {
   "cell_type": "code",
   "execution_count": 69,
   "metadata": {
    "collapsed": false
   },
   "outputs": [
    {
     "name": "stdout",
     "output_type": "stream",
     "text": [
      "coupling capacitor: s_g = 9 mu, w_finger = 3 mu, g_finger = 3 mu\n",
      "\n",
      "C_cpw1 = 87.2545314531 pF/m\n",
      "C1 = 13.4371978438 fF\n",
      "C2 = 6.71859892189 fF\n",
      "f_res (s_g = 9 mu) = 11.2012895833 GHz\n",
      "f_sim = 11.114 GHz\n"
     ]
    }
   ],
   "source": [
    "print 'coupling capacitor: s_g = 9 mu, w_finger = 3 mu, g_finger = 3 mu'\n",
    "print\n",
    "s_g2 = (N*w_real+(N-1)*s)*ratio \n",
    "C1_1 = C1(w,s_g2,overlap1,G)\n",
    "print 'C1 =', C1_1*10**15, 'fF'\n",
    "C2_1 = C1_1/2.\n",
    "print 'C2 =', C2_1*10**15, 'fF'\n",
    "print 'f_res (s_g = 9 mu) =', fresc(L_lres,C_lres,l_res,Cs1,C2_1,0)*10**(-9), 'GHz'\n",
    "print 'f_sim =', 11.114,'GHz'"
   ]
  },
  {
   "cell_type": "code",
   "execution_count": 70,
   "metadata": {
    "collapsed": false
   },
   "outputs": [
    {
     "name": "stdout",
     "output_type": "stream",
     "text": [
      "corrected Cs = 14.0080043916 fF\n"
     ]
    }
   ],
   "source": [
    "##############################different calculation of Cs:#####################################\n",
    "fres_bare = c/(4.*l_res*eff1**0.5)\n",
    "#print 'bare resonator resonance frequency: f_res,bare =', fres_bare*10**(-9), 'GHz'\n",
    "w_res = 2.*np.pi*fres_bare\n",
    "C_s_tilde = Cs1/(1+(w_res*Z_0*Cs1)**2/(1+(w_res*C1_1*Z_0)**2))\n",
    "\n",
    "print 'corrected Cs =', C_s_tilde*10**15, 'fF'"
   ]
  },
  {
   "cell_type": "code",
   "execution_count": 71,
   "metadata": {
    "collapsed": true
   },
   "outputs": [],
   "source": [
    "####################################################################################\n",
    "#j = complex(0,1)\n",
    "#C_tild = Cs1*(1+j*w_res*C1_1*Z_0)**2./((1+j*w_res*C1_1*Z_0)**2.+(w_res*Z_0*Cs1)**2.)\n",
    "\n",
    "#print C_tild.real*10**15, 'fF'\n",
    "\n",
    "\n",
    "####################################################################\n",
    "#C1star = (1+(w_res*C1_1*Z_0)**2.)/((w_res*Z_0)**2.*C1_1)\n",
    "#C_G = (1/C1star+1/Cs1)**(-1)\n",
    "#print Cs1\n",
    "#print C_G"
   ]
  },
  {
   "cell_type": "code",
   "execution_count": 72,
   "metadata": {
    "collapsed": false
   },
   "outputs": [
    {
     "name": "stdout",
     "output_type": "stream",
     "text": [
      "\n",
      "coupling capacitor: N = 4, l_finger = 80mu, s_g =  6.0\n",
      "s_g =  6.0 mu\n",
      "C_cpw1 = 96.6497487736 pF/m\n",
      "C2 =  7.44203065557 fF\n",
      "Cs = 15.8448347699 fF\n",
      "CN = 2.73500773435 fF\n",
      "f_res (s_g = 12.6 mu) = 11.1397514218 GHz\n",
      "f_sim = 11.087 GHz\n",
      "\n",
      "\n",
      "coupling capacitor: N = 4, l_finger = 80mu, s_g =  12.6\n",
      "s_g =  12.6 mu\n",
      "C_cpw1 = 80.3614361539 pF/m\n",
      "C2 =  6.18783058385 fF\n",
      "Cs = 15.8448347699 fF\n",
      "CN = 2.73500773435 fF\n",
      "f_res (s_g = 12.6 mu) = 11.1704190283 GHz\n",
      "f_sim = 11.087 GHz\n",
      "\n",
      "Q_L =  171.852600436\n",
      "Q_ext = 219.094764919\n",
      "Q_int = 797\n",
      "approximation: Cc = 12.7452750793 fF\n",
      "\n",
      "\n",
      "\n",
      "coupling capacitor: N = 4, l_finger = 80mu, s_g =  36.0 mu\n",
      "s_g =  36.0 mu\n",
      "C_cpw1 = 63.2252968828 pF/m\n",
      "C2 =  4.86834785998 fF\n",
      "Cs = 15.8448347699 fF\n",
      "CN = 2.73500773435 fF\n",
      "f_res (s_g = 36 mu) = 11.2029579028 GHz\n",
      "f_sim = 11.167 GHz\n",
      "Q_L =  151.566065513\n",
      "Q_ext = 168.755296961\n",
      "Q_int = 1488\n",
      "approximation: Cc = 14.576826214 fF\n"
     ]
    }
   ],
   "source": [
    "\n",
    "#coupling capacitor: N = 4, l_finger = 80, w_finger = 3, s_finger = 3, s_g = \n",
    "N2 = 4\n",
    "\n",
    "s_g = 6.e-6\n",
    "\n",
    "Cs2 = Cs(C3(w,s,overlap1),CN(N2,w,s,overlap1),C_end3(N2,ground,w,s,G))\n",
    "\n",
    "\n",
    "\n",
    "print \n",
    "print 'coupling capacitor: N = 4, l_finger = 80mu, s_g = ',s_g*10**6\n",
    "print 's_g = ', s_g*10**6, 'mu'\n",
    "\n",
    "C1_2 = C1(w,s_g,overlap1,G)/2.\n",
    "C2_2 = C1_2\n",
    "\n",
    "print 'C2 = ',C2_2*10**15, 'fF'\n",
    "print 'Cs =', Cs2*10**15, 'fF'\n",
    "print 'CN =', CN(N2,w,s,overlap1)*10**15, 'fF'\n",
    "f_res2 = fresc(L_lres,C_lres,l_res,Cs2,C2_2,0)\n",
    "print 'f_res (s_g = 12.6 mu) =', f_res2*10**(-9), 'GHz'\n",
    "print 'f_sim =', 11.087, 'GHz'\n",
    "print \n",
    "\n",
    "\n",
    "\n",
    "################################### s_g = 12.8 mu #############################\n",
    "s_g2 = (N2*w_real+(N2-1)*s)*ratio \n",
    "\n",
    "Cs2 = Cs(C3(w,s,overlap1),CN(N2,w,s,overlap1),C_end3(N2,ground,w,s,G))\n",
    "\n",
    "\n",
    "\n",
    "print \n",
    "print 'coupling capacitor: N = 4, l_finger = 80mu, s_g = ',s_g2*10**6\n",
    "print 's_g = ', s_g2*10**6, 'mu'\n",
    "\n",
    "C1_2 = C1(w,s_g2,overlap1,G)/2.\n",
    "C2_2 = C1_2\n",
    "\n",
    "print 'C2 = ',C2_2*10**15, 'fF'\n",
    "print 'Cs =', Cs2*10**15, 'fF'\n",
    "print 'CN =', CN(N2,w,s,overlap1)*10**15, 'fF'\n",
    "f_res2 = fresc(L_lres,C_lres,l_res,Cs2,C2_2,0)\n",
    "print 'f_res (s_g = 12.6 mu) =', f_res2*10**(-9), 'GHz'\n",
    "print 'f_sim =', 11.087, 'GHz'\n",
    "print \n",
    "f12 = 11.12e9\n",
    "f22 = 11.055e9\n",
    "deltaf2 = f12 - f22 \n",
    "Q_L2 = Q_L(f_res2,deltaf2)\n",
    "Q_int = 797\n",
    "Q_ext2 = Q_ext(Q_int,Q_L2)\n",
    "print 'Q_L = ', Q_L2\n",
    "print 'Q_ext =',Q_ext2 \n",
    "print 'Q_int =', Q_int\n",
    "wres2 = np.pi*(f12+f22)\n",
    "A = 1/(wres2*Q_ext2*Z_0)\n",
    "\n",
    "C_coupling = A/2 + np.sqrt((A/2)**2.+A*C)\n",
    "print 'approximation: Cc =', C_coupling*10**15, 'fF'\n",
    "\n",
    "print\n",
    "print\n",
    "print\n",
    "s_g3 = 36e-6\n",
    "print 'coupling capacitor: N = 4, l_finger = 80mu, s_g = ',s_g3*10**6, 'mu'\n",
    "print 's_g = ', s_g3*10**6, 'mu'\n",
    "\n",
    "C1_3 = C1(w,s_g3,overlap1,G)/2.\n",
    "C2_3 = C1_3\n",
    "\n",
    "print 'C2 = ',C2_3*10**15, 'fF'\n",
    "print 'Cs =', Cs2*10**15, 'fF'\n",
    "print 'CN =', CN(N2,w,s,overlap1)*10**15, 'fF'\n",
    "\n",
    "print 'f_res (s_g = 36 mu) =', fresc(L_lres,C_lres,l_res,Cs2,C2_3,0)*10**(-9), 'GHz'\n",
    "\n",
    "print 'f_sim =', 11.167, 'GHz'\n",
    "\n",
    "f12 = 11.2042e9\n",
    "f22 = 11.1305e9\n",
    "deltaf2 = f12 - f22 \n",
    "Q_L2 = Q_L(f_res2,deltaf2)\n",
    "Q_int = 1488\n",
    "Q_ext2 = Q_ext(Q_int,Q_L2)\n",
    "print 'Q_L = ', Q_L2\n",
    "print 'Q_ext =',Q_ext2 \n",
    "print 'Q_int =', Q_int\n",
    "wres2 = np.pi*(f12+f22)\n",
    "A = 1/(wres2*Q_ext2*Z_0)\n",
    "\n",
    "C_coupling = A/2 + np.sqrt((A/2)**2.+A*C)\n",
    "print 'approximation: Cc =', C_coupling*10**15, 'fF'"
   ]
  },
  {
   "cell_type": "code",
   "execution_count": 73,
   "metadata": {
    "collapsed": false
   },
   "outputs": [
    {
     "name": "stdout",
     "output_type": "stream",
     "text": [
      "coupling capacitor: N = 5, l_finger = 80, ground = 10, s_g = 36.0 mu\n",
      "C_cpw1 = 62.3905167366 pF/m\n",
      "C1 = 9.60813957744 fF\n",
      "C2 = 4.80406978872 fF\n",
      "\n",
      "Cs (mit C_end2) = 21.431904387 fF\n",
      "Cs (mit C_end3) = 19.0867770924 fF\n",
      "\n",
      "CN = 5.4700154687 fF\n",
      "f_res (s_g =  36.0  mu) = 11.0705190787 GHz\n",
      "f_sim = 10.9725 GHz\n",
      "Q_L = 122.056439676\n",
      "Q_ext = 132.963020958\n",
      "approximation: Cc = 16.7068433645 fF\n"
     ]
    },
    {
     "data": {
      "image/png": "[encoded data removed]",
      "text/plain": [
       "<matplotlib.figure.Figure at 0x75ef410>"
      ]
     },
     "metadata": {},
     "output_type": "display_data"
    }
   ],
   "source": [
    "N = 5\n",
    "w_real = 3.e-6\n",
    "s = 3.e-6\n",
    "\n",
    "\n",
    "#s_g = (N*w_real+(N2-1)*s)*ratio \n",
    "s_g = 36.e-6\n",
    "\n",
    "\n",
    "print 'coupling capacitor: N = 5, l_finger = 80, ground = 10, s_g =', s_g*10**6, 'mu'\n",
    "\n",
    "Cs_0 = Cs(C3(w_real,s,overlap1),CN(N,w_real,s,overlap1),C_end2(N,ground,w_real,G))\n",
    "Cs_1 = Cs(C3(w_real,s,overlap1),CN(N,w_real,s,overlap1),C_end3(N,ground,w_real,G,s))\n",
    "C1_0 = C1(w_real,s_g,overlap1,G)\n",
    "C2_0 = C1_0/2.\n",
    "print 'C1 =', C1_0*10**15, 'fF'\n",
    "print 'C2 =', C2_0*10**15, 'fF'\n",
    "print\n",
    "print 'Cs (mit C_end2) =', Cs_0*10**15, 'fF'\n",
    "print 'Cs (mit C_end3) =', Cs_1*10**15, 'fF'\n",
    "print\n",
    "print 'CN =', CN(N,w,s,overlap1)*10**15, 'fF'\n",
    "fres = fresc(L_lres,C_lres,l_res,Cs_0,C2_0,0)\n",
    "print 'f_res (s_g = ',s_g*10**6,' mu) =', fres*10**(-9), 'GHz'\n",
    "print 'f_sim = 10.9725 GHz'\n",
    "\n",
    "f1 = 11.01745e9\n",
    "f2 = 10.92675e9\n",
    "deltaf1 = f1 - f2 \n",
    "Q_Load = Q_L(fres,deltaf1)\n",
    "Q_ex = Q_ext(Q_int,Q_Load)\n",
    "print 'Q_L =',Q_Load\n",
    "print 'Q_ext =',Q_ex\n",
    "wres = 2.*np.pi*10.9725e9\n",
    "A = 1/(wres*Q_ex*Z_0)\n",
    "\n",
    "C_coupling = A/2 + np.sqrt((A/2)**2.+A*C)\n",
    "print 'approximation: Cc =', C_coupling*10**15, 'fF'\n",
    "\n",
    "\n",
    "C_coup = C1_0*C2_0*Cs_0/(C1_0*C2_0+C1_0*Cs_0+C2_0*Cs_0)\n",
    "\n",
    "#print C_coup*10**15, 'fF'\n",
    "#print (C1_0+C2_0)*Cs_0/(C2_0+C1_0+Cs_0)\n",
    "#print C1_0*Cs_0/(C1_0+Cs_0)\n",
    "#print C1_0*C2_0/(C1_0+C2_0)\n",
    "\n",
    "def C1(w,s_g,overlap,G):\n",
    "        k5 = np.sqrt(s_g/(w+s_g))\n",
    "        k6 = np.sqrt((np.exp(pi*w/h)-1.)/(np.exp(pi*(w+s_g)/h)-1.))\n",
    "        Ccpw1 = 2.*epsilon_0*K(k_strich(k5))/K(k5)+epsilon_0*(e_r-1.)*K(k6)/K(k_strich(k6))\n",
    "        print 'C_cpw1 =', Ccpw1*10**12, 'pF/m'\n",
    "        return 2.*Ccpw1*(overlap+G)*10**15\n",
    "    \n",
    "def C11(w,s_g,overlap,G):\n",
    "        k5 = np.sqrt(s_g*10**(-6)/(w+s_g*10**(-6)))\n",
    "        k6 = np.sqrt((np.exp(pi*w/h)-1.)/(np.exp(pi*(w+s_g*10**(-6))/h)-1.))\n",
    "        Ccpw1 = 2.*epsilon_0*K(k_strich(k5))/K(k5)+epsilon_0*(e_r-1.)*K(k6)/K(k_strich(k6))\n",
    "        #print 'C_cpw1 =', Ccpw1*10**12, 'pF/m'\n",
    "        return 2.*Ccpw1*(overlap+G)*10**15\n",
    "\n",
    "gap = np.arange(1.e-6,100.e-6, 0.1e-6) \n",
    "gap1 = np.arange(1.,100., 0.1) \n",
    "\n",
    "#C1_0 = C1(w,gap*10**(-6),overlap1,G)\n",
    "plt.plot(gap1,C11(w,gap1,overlap1,G),'k')\n",
    "plt.xlabel('Gap to ground: $s_g [\\mu m]$', fontsize = 16 )\n",
    "plt.ylabel('parasitaric C1 [fF]', fontsize = 16 )\n",
    "plt.show()"
   ]
  },
  {
   "cell_type": "code",
   "execution_count": 74,
   "metadata": {
    "collapsed": false
   },
   "outputs": [
    {
     "name": "stdout",
     "output_type": "stream",
     "text": [
      "coupling capacitor: N = 8, l_finger = 80, ground = 10, s_g = 6e-06\n",
      "\n",
      "C_cpw1 = 80.3614361539 pF/m\n",
      "C1 = 6.18783058385e+15 fF\n",
      "C2 = 6.18783058385e+15 fF\n",
      "\n",
      "Cs = 35.0244393601 fF\n",
      "Cs = 30.2313982014 fF\n",
      "\n",
      "CN = 13.6750386718 fF\n",
      "f_res (s_g = 6e-06  mu) = 2.14174510463e-06 GHz\n",
      "f_sim = 10.9725 GHz\n",
      "Q_L = 2.36135072175e-05\n",
      "Q_ext = 2.36135075923e-05\n",
      "approximation: Cc = 12285362.2532 fF\n"
     ]
    }
   ],
   "source": [
    "\n",
    "\n",
    "N = 8\n",
    "w_real = 3.e-6\n",
    "s = 3.e-6\n",
    "\n",
    "\n",
    "#s_g = (N*w_real+(N-1)*s)*ratio \n",
    "s_g = 6.e-6\n",
    "\n",
    "print 'coupling capacitor: N = 8, l_finger = 80, ground = 10, s_g =',s_g\n",
    "print\n",
    "\n",
    "Cs_0 = Cs(C3(w,s,overlap1),CN(N,w,s,overlap1),C_end2(N,ground,w,G))\n",
    "Cs_1 = Cs(C3(w,s,overlap1),CN(N,w,s,overlap1),C_end3(N,ground,w,G,s))\n",
    "C1_0 = C1(w,s_g2,overlap1,G)/2.\n",
    "C2_0 = C1_0\n",
    "\n",
    "print 'C1 =',C1_0*10**15,'fF'\n",
    "print 'C2 =',C2_0*10**15, 'fF'\n",
    "print\n",
    "print 'Cs =', Cs_0*10**15, 'fF'\n",
    "print 'Cs =', Cs_1*10**15, 'fF'\n",
    "print\n",
    "print 'CN =', CN(N,w,s,overlap1)*10**15, 'fF'\n",
    "fres = fresc(L_lres,C_lres,l_res,Cs_0,C2_0,0)\n",
    "print 'f_res (s_g =', s_g,' mu) =', fres*10**(-9), 'GHz'\n",
    "print 'f_sim = 10.9725 GHz'\n",
    "\n",
    "f1 = 11.01745e9\n",
    "f2 = 10.92675e9\n",
    "deltaf1 = f1 - f2 \n",
    "Q_Load = Q_L(fres,deltaf1)\n",
    "Q_ex = Q_ext(Q_int,Q_Load)\n",
    "print 'Q_L =',Q_Load\n",
    "print 'Q_ext =',Q_ex\n",
    "wres = 2.*np.pi*10.9725e9\n",
    "A = 1/(wres*Q_ex*Z_0)\n",
    "\n",
    "C_coupling = A/2 + np.sqrt((A/2)**2.+A*C)\n",
    "print 'approximation: Cc =', C_coupling*10**15, 'fF'\n",
    "\n",
    "\n",
    "\n"
   ]
  },
  {
   "cell_type": "code",
   "execution_count": 75,
   "metadata": {
    "collapsed": false
   },
   "outputs": [
    {
     "name": "stdout",
     "output_type": "stream",
     "text": [
      "coupling capacitor: N = 13, l_finger = 36, ground = 5, s_g = 1e-05\n",
      "\n",
      "C_cpw1 = 80.3614361539 pF/m\n",
      "C1 = 2.73228882923e+15 fF\n",
      "C2 = 2.73228882923e+15 fF\n",
      "C3 = 4.81215981039 fF\n",
      "C_end = 21.4051643885 fF\n",
      "Cs = 39.6629997847 fF\n",
      "CN = 13.4456755858 fF\n",
      "f_res (s_g = 1e-05  mu) = 3.22309930847e-06 GHz\n",
      "f_sim = 10.9725 GHz\n"
     ]
    }
   ],
   "source": [
    "#coupling capacitor Jochen:\n",
    "\n",
    "\n",
    "N = 13\n",
    "w_real = 2.e-6\n",
    "s = 2.e-6\n",
    "l_finger = 36.e-6\n",
    "G = s\n",
    "\n",
    "#s_g = (N*w_real+(N2-1)*s)*ratio \n",
    "s_g = 10.e-6\n",
    "overlap1 = l_finger - 2.*G\n",
    "ground = 4.e-6\n",
    "\n",
    "\n",
    "print 'coupling capacitor: N = 13, l_finger = 36, ground = 5, s_g =',s_g\n",
    "print\n",
    "\n",
    "Cs_0 = Cs(C3(w,s,overlap1),CN(N,w,s,overlap1),C_end2(N,ground,w,G))\n",
    "C1_0 = C1(w,s_g2,overlap1,G)/2.\n",
    "C2_0 = C1_0\n",
    "\n",
    "print 'C1 =',C1_0*10**15,'fF'\n",
    "print 'C2 =',C2_0*10**15, 'fF'\n",
    "print 'C3 =',C3(w,s,overlap1)*10**15, 'fF'\n",
    "print 'C_end =', C_end2(N,ground,w,G)*10**15, 'fF'\n",
    "print 'Cs =', Cs_0*10**15, 'fF'\n",
    "print 'CN =', CN(N,w,s,overlap1)*10**15, 'fF'\n",
    "fres = fresc(L_lres,C_lres,l_res,Cs_0,C2_0,0)\n",
    "print 'f_res (s_g =', s_g,' mu) =', fres*10**(-9), 'GHz'\n",
    "print 'f_sim = 10.9725 GHz'\n"
   ]
  },
  {
   "cell_type": "code",
   "execution_count": 76,
   "metadata": {
    "collapsed": false
   },
   "outputs": [
    {
     "name": "stdout",
     "output_type": "stream",
     "text": [
      "thickness correction:  0.891106886937\n",
      "s_g =  32.67 mu\n",
      "capacitance per unit length: C_l =  1.61249240329e-11 F/m\n",
      "C_end2 = 14.0377739391 fF\n",
      "C_N = 17.614556201 fF\n",
      "Cs = 44.1174837622 fF\n",
      "kInf = 0.707106781187\n",
      "kEinf = 0.942809041582\n",
      "CI = 12.0794705621 fF\n",
      "CE = 18.8774188091 fF\n",
      "63.0499324913\n",
      "46.8606880824\n"
     ]
    }
   ],
   "source": [
    "#comparison to Göppl paper\n",
    "\n",
    "from scipy.special import *\n",
    "from math import *\n",
    "import numpy as np  \n",
    "from scipy.constants import *\n",
    "import matplotlib.pyplot as plt\n",
    "\n",
    "%matplotlib inline\n",
    "\n",
    "#parameters of the finger capacitor:\n",
    "\n",
    "cw = 10.e-6\n",
    "cg = 6.6e-6\n",
    "\n",
    "ratio = cg/cw\n",
    "\n",
    "N = 8.                              #number of fingers\n",
    "G = 3.e-6                            #gap at open finger end \n",
    "L = (100.e-6)-2*G                         #overlap of the fingers\n",
    "                          \n",
    "\n",
    "e_r = 11.9                          #dielectrical constant substrate:\n",
    "\n",
    "\n",
    "\n",
    "#real finger width:\n",
    "w_real = 3.3e-6\n",
    "#metal layer thickness:\n",
    "t = 200.e-9\n",
    "#effective finger width to account for the thickness of the metallization layer\n",
    "w = w_real+t/np.pi*(1+np.log(4*pi*w_real/t))\n",
    "print 'thickness correction: ',w_real/w\n",
    "#finger gap width\n",
    "s = 3.3e-6\n",
    "\n",
    "#substrate height:\n",
    "h = 500.e-6\n",
    "\n",
    "s_g = (N*w_real+(N-1)*s)*ratio               #gap of the outermost fingers to the ground planes:\n",
    "#s_g = 70.e-6\n",
    "print 's_g = ', s_g*10**6, 'mu' \n",
    "\n",
    "#complete elliptic integral of first kind\n",
    "def K(x):\n",
    "    return ellipk(x)\n",
    "\n",
    "def k_strich(x):\n",
    "    return np.sqrt(1.-x**2)\n",
    "\n",
    "\n",
    "k5 = np.sqrt(s_g/(w+s_g))\n",
    "k05 = np.sqrt(1.-k5**2.)\n",
    "k6 = np.sqrt((np.exp(pi*w/h)-1.)/(exp(pi*(w+s_g)/h)-1.))\n",
    "k06 = np.sqrt(1.-k6**2.)\n",
    "\n",
    "Ccpw1 = 2.*epsilon_0*K(k_strich(k5))/K(k5)+epsilon_0*(e_r-1.)*K(k6)/K(k_strich(k6))\n",
    "\n",
    "#capcitance at the left port (more fingers if the total number is odd)\n",
    "C1 = 2.*Ccpw1*(L+G)\n",
    "\n",
    "#capacitance at the right port:\n",
    "C2 = C1/2.\n",
    "\n",
    "##########################################################\n",
    "#comparison to cpw:\n",
    "w_cpw = 3.e-6\n",
    "g_cpw = s_g+w+g\n",
    "\n",
    "k0 = w_cpw/(w_cpw+2.*g_cpw)\n",
    "k01 = (1.-k0**2.)**0.5\n",
    "K0 = ellipk(k0)\n",
    "K01 = ellipk(k01)\n",
    "\n",
    "e1=11.9\n",
    "\n",
    "eff1 = 5.05\n",
    "\n",
    "C_l = 4*epsilon_0*eff1*(K0/K01)\n",
    "\n",
    "print 'capacitance per unit length: C_l = ', C_l, 'F/m'\n",
    "#########################################################\n",
    "\n",
    "#C3: finger capacitor with 3 finger:\n",
    "correctionk1 = np.sqrt((1-((w+2*s)/(3*w+2*s))**2.)/(1-(w/(3*w+2*s))**2))\n",
    "k1 = (w/(w+2*s))*correctionk1\n",
    "correctionk2 = np.sqrt((sinh(pi*(3*w+2*s)/(4*h))**2-sinh(pi*(w+2*s)/(4*h))**2)/(sinh(pi*(3*w+2*s)/(4*h))**2-sinh(pi*(w)/(4*h))**2))\n",
    "k2 = np.sinh(pi*w/(4*h))/np.sinh(pi*(w+2*s)/(4*h))*correctionk2\n",
    "q1 = K(k_strich(k1))*K(k2)/(K(k1)*K(k_strich(k2)))\n",
    "e_eff = 1.+q1*(e_r-1.)/2.\n",
    "C3 = 4*epsilon_0*e_eff*K(k1)/K(k_strich(k1))*L\n",
    "\n",
    "\n",
    "#CN: (N-3) periodical structure\n",
    "k3 = w/(w+s)\n",
    "correctionk4 = np.sqrt((cosh(pi*(w+s)/(4*h))**2+sinh(pi*(w+s)/(4*h))**2)/(cosh(pi*(w)/(4*h))**2+sinh(pi*(w+s)/(4*h))**2))\n",
    "k4 = np.sinh(pi*w/(4*h))/np.sinh(pi*(w+2*s)/(4*h))*correctionk4\n",
    "q_N = K(k_strich(k3))*K(k4)/(K(k3)*K(k_strich(k4)))\n",
    "e_N = 1.+q_N*(e_r-1.)/2.\n",
    "CN = (N-3)*epsilon_0*e_N*K(k3)/K(k_strich(k3))*L\n",
    "\n",
    "\n",
    "#C_end: capacitance of the fingers open ends \n",
    "# only valid for G/(w+2*s) < 0.2\n",
    "e_oe = (e_r+1.)/2.\n",
    "nu = G/(w+s)\n",
    "C_oe1 = 2*(epsilon_0/np.pi)*((w+s)*(np.log(np.sqrt(1.+nu**2.)*nu)/nu+np.log((sqrt(1+nu**2)+1)/nu)-1/3*(1/(1+np.sqrt(1+nu**2.))+1/(nu+np.sqrt(1+nu**2))))-(w+2/3*s))\n",
    "C_oe = e_oe*C_oe1\n",
    "C_end = N*C_oe\n",
    "\n",
    "\n",
    "\n",
    "#C_end: different approach:\n",
    "ground = 10.e-6\n",
    "k_1end = np.sinh(pi*w/(4*h))/np.sinh(pi*(w+G)/(4*h))\n",
    "correctionk0 = np.sqrt((1.-((w+G)/(w+ground+G))**2.)/(1.-((w)/(w+ground+G))**2.))\n",
    "k_0end = w/(w+G)*correctionk0\n",
    "q_end = K(k_1end)*K(k_strich(k_0end))/(K(k_strich(k_1end))*K(k_0end))\n",
    "e_end = 1+q_end*(e_r-1.)/2.\n",
    "C_end2 = 4*N*w*(1+np.pi/2)*epsilon_0*e_end*K(k_0end)/K(k_strich(k_0end))\n",
    "\n",
    "print 'C_end2 =', C_end2*10**15, 'fF'\n",
    "print 'C_N =', CN*10**15, 'fF'\n",
    "\n",
    "\n",
    "Cs = C3 + CN + C_end2\n",
    "print 'Cs =',Cs*10**15, 'fF'\n",
    "Cc = C1 + 1/(1/Cs + 1/C2)\n",
    "Cc2 = C1+Cs+C2\n",
    "\n",
    "C = (C1+C2+C1*C2/Cs)/(1+C2/Cs)\n",
    "\n",
    "#print 'C =', C*10**15, 'fF'\n",
    "#print Cc*10**15, 'fF'\n",
    "#print Cc2*10**15, 'fF'\n",
    "\n",
    "\n",
    "print get_C_idc_few(w_real,s,L,8)\n",
    "\n",
    "\n",
    "print get_C_idc(w,s,L,8)"
   ]
  },
  {
   "cell_type": "code",
   "execution_count": 77,
   "metadata": {
    "collapsed": false
   },
   "outputs": [
    {
     "name": "stdout",
     "output_type": "stream",
     "text": [
      "9e-06\n"
     ]
    }
   ],
   "source": [
    "w_real = 3.e-6\n",
    "s = w_real\n",
    "N = 3\n",
    "ratio = 0.6\n",
    "s_g = (N*w_real+(N-1)*s)*ratio \n",
    "print s_g"
   ]
  },
  {
   "cell_type": "code",
   "execution_count": 78,
   "metadata": {
    "collapsed": false
   },
   "outputs": [
    {
     "name": "stdout",
     "output_type": "stream",
     "text": [
      "6.89306498826 fF\n"
     ]
    }
   ],
   "source": [
    "N = 8\n",
    "\n",
    "x = 0.25*s\n",
    "k_1end = np.sinh(pi*x/(4*h))/np.sinh(pi*(x+G)/(4*h))\n",
    "correctionk0 = np.sqrt((1.-((x+G)/(x+ground+G))**2.)/(1.-((x)/(x+ground+G))**2.))\n",
    "k_0end = x/(x+G)*correctionk0\n",
    "q_end = K(k_1end)*K(k_strich(k_0end))/(K(k_strich(k_1end))*K(k_0end))\n",
    "e_end = 1+q_end*(e_r-1.)/2.\n",
    "e_end2 = (11.9+1.)/2.\n",
    "print 4*N*s*(1+np.pi/2)*epsilon_0*e_end2*K(k_0end)/K(k_strich(k_0end))*10**15, 'fF'\n"
   ]
  },
  {
   "cell_type": "code",
   "execution_count": 79,
   "metadata": {
    "collapsed": false
   },
   "outputs": [
    {
     "name": "stdout",
     "output_type": "stream",
     "text": [
      "0.199998889674\n",
      "0.552456529188\n"
     ]
    }
   ],
   "source": [
    "print k_1end\n",
    "print w/(w+G)"
   ]
  },
  {
   "cell_type": "code",
   "execution_count": null,
   "metadata": {
    "collapsed": false
   },
   "outputs": [],
   "source": []
  }
 ],
 "metadata": {
  "kernelspec": {
   "display_name": "Python 2",
   "language": "python",
   "name": "python2"
  },
  "language_info": {
   "codemirror_mode": {
    "name": "ipython",
    "version": 2
   },
   "file_extension": ".py",
   "mimetype": "text/x-python",
   "name": "python",
   "nbconvert_exporter": "python",
   "pygments_lexer": "ipython2",
   "version": "2.7.11"
  }
 },
 "nbformat": 4,
 "nbformat_minor": 0
}
