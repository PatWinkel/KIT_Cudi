{
 "cells": [
  {
   "cell_type": "code",
   "execution_count": 1,
   "metadata": {
    "collapsed": true
   },
   "outputs": [],
   "source": [
    "from scipy.special import *\n",
    "from math import *\n",
    "import numpy as np  \n",
    "from scipy.constants import *\n",
    "import matplotlib.pyplot as plt"
   ]
  },
  {
   "cell_type": "code",
   "execution_count": 2,
   "metadata": {
    "collapsed": true
   },
   "outputs": [],
   "source": [
    "%matplotlib inline"
   ]
  },
  {
   "cell_type": "code",
   "execution_count": 52,
   "metadata": {
    "collapsed": false
   },
   "outputs": [
    {
     "name": "stdout",
     "output_type": "stream",
     "text": [
      "alpha =  25.0\n"
     ]
    }
   ],
   "source": [
    "#evaporation angle:\n",
    "alpha = 25.\n",
    "print 'alpha = ', alpha"
   ]
  },
  {
   "cell_type": "code",
   "execution_count": 53,
   "metadata": {
    "collapsed": false
   },
   "outputs": [],
   "source": [
    "alpha_rad = (alpha/360.)*2.*np.pi"
   ]
  },
  {
   "cell_type": "code",
   "execution_count": 54,
   "metadata": {
    "collapsed": true
   },
   "outputs": [],
   "source": [
    "h_r = 550.e-9"
   ]
  },
  {
   "cell_type": "code",
   "execution_count": 55,
   "metadata": {
    "collapsed": false
   },
   "outputs": [
    {
     "name": "stdout",
     "output_type": "stream",
     "text": [
      "LOR height: h_r = 550.0 nm\n"
     ]
    }
   ],
   "source": [
    "print 'LOR height: h_r =', h_r*10**9, 'nm'"
   ]
  },
  {
   "cell_type": "code",
   "execution_count": 56,
   "metadata": {
    "collapsed": true
   },
   "outputs": [],
   "source": [
    "w_b = 68.e-9"
   ]
  },
  {
   "cell_type": "code",
   "execution_count": 57,
   "metadata": {
    "collapsed": false
   },
   "outputs": [
    {
     "name": "stdout",
     "output_type": "stream",
     "text": [
      "Dolan bridge width: w_d = 68.0 nm\n"
     ]
    }
   ],
   "source": [
    "print 'Dolan bridge width: w_d =', w_b*10**9, 'nm'"
   ]
  },
  {
   "cell_type": "code",
   "execution_count": 58,
   "metadata": {
    "collapsed": true
   },
   "outputs": [],
   "source": [
    "h_PMMA = 80.e-9"
   ]
  },
  {
   "cell_type": "code",
   "execution_count": 59,
   "metadata": {
    "collapsed": false
   },
   "outputs": [
    {
     "data": {
      "text/plain": [
       "49.635463426902646"
      ]
     },
     "execution_count": 59,
     "metadata": {},
     "output_type": "execute_result"
    }
   ],
   "source": [
    "phi = np.arctan(h_PMMA/w_b)\n",
    "phi*360/(2*np.pi)"
   ]
  },
  {
   "cell_type": "code",
   "execution_count": 66,
   "metadata": {
    "collapsed": false
   },
   "outputs": [],
   "source": [
    "gamma = phi*360/(2*np.pi) - alpha"
   ]
  },
  {
   "cell_type": "code",
   "execution_count": 67,
   "metadata": {
    "collapsed": false
   },
   "outputs": [
    {
     "name": "stdout",
     "output_type": "stream",
     "text": [
      "24.6354634269\n"
     ]
    }
   ],
   "source": [
    "print gamma"
   ]
  },
  {
   "cell_type": "code",
   "execution_count": 68,
   "metadata": {
    "collapsed": true
   },
   "outputs": [],
   "source": [
    "diag = np.sqrt(w_b**2.+h_PMMA**2.)"
   ]
  },
  {
   "cell_type": "code",
   "execution_count": 69,
   "metadata": {
    "collapsed": false
   },
   "outputs": [
    {
     "name": "stdout",
     "output_type": "stream",
     "text": [
      "1.04995237987e-07\n"
     ]
    }
   ],
   "source": [
    "print diag"
   ]
  },
  {
   "cell_type": "code",
   "execution_count": 85,
   "metadata": {
    "collapsed": true
   },
   "outputs": [],
   "source": [
    "'''effective bridge width due to finite PMMA height; sets the cut width of each layer'''\n",
    "w_eff =diag*np.cos(gamma)"
   ]
  },
  {
   "cell_type": "code",
   "execution_count": 86,
   "metadata": {
    "collapsed": false
   },
   "outputs": [
    {
     "name": "stdout",
     "output_type": "stream",
     "text": [
      "9.22786767422e-08\n"
     ]
    }
   ],
   "source": [
    "print w_eff"
   ]
  },
  {
   "cell_type": "code",
   "execution_count": 72,
   "metadata": {
    "collapsed": true
   },
   "outputs": [],
   "source": [
    "'''distance from the opposite edge of the dolan bridge to the nearest point of the cut off in layer1'''\n",
    "s1 = np.tan(alpha_rad)*h_r\n",
    "'''part of the distance that exceeds the dolan bridge width w_b'''\n",
    "delta_s1 = s1-w_b"
   ]
  },
  {
   "cell_type": "code",
   "execution_count": 90,
   "metadata": {
    "collapsed": false
   },
   "outputs": [
    {
     "data": {
      "text/plain": [
       "2.5646921198524926e-07"
      ]
     },
     "execution_count": 90,
     "metadata": {},
     "output_type": "execute_result"
    }
   ],
   "source": [
    "s1"
   ]
  },
  {
   "cell_type": "code",
   "execution_count": 91,
   "metadata": {
    "collapsed": false
   },
   "outputs": [
    {
     "data": {
      "text/plain": [
       "1.8846921198524926e-07"
      ]
     },
     "execution_count": 91,
     "metadata": {},
     "output_type": "execute_result"
    }
   ],
   "source": [
    "delta_s1"
   ]
  },
  {
   "cell_type": "code",
   "execution_count": 74,
   "metadata": {
    "collapsed": true
   },
   "outputs": [],
   "source": [
    "#change of the distance between the bridge and the substrate due to the first Al-layer with thickness t1\n",
    "t1 = 30e-9"
   ]
  },
  {
   "cell_type": "code",
   "execution_count": 75,
   "metadata": {
    "collapsed": false
   },
   "outputs": [
    {
     "name": "stdout",
     "output_type": "stream",
     "text": [
      "first layer height: t_1 = 30.0 nm\n"
     ]
    }
   ],
   "source": [
    "print 'first layer height: t_1 =', t1*10**9, 'nm'"
   ]
  },
  {
   "cell_type": "code",
   "execution_count": 76,
   "metadata": {
    "collapsed": true
   },
   "outputs": [],
   "source": [
    "'''distance from the opposite edge of the dolan bridge to the nearest point of the cut off in layer2'''\n",
    "s2 = np.tan(alpha_rad)*(h_r-t1)\n",
    "'''part of the distance that exceeds the dolan bridge width w_b'''\n",
    "delta_s2 = s2-w_b"
   ]
  },
  {
   "cell_type": "code",
   "execution_count": 77,
   "metadata": {
    "collapsed": false
   },
   "outputs": [
    {
     "name": "stdout",
     "output_type": "stream",
     "text": [
      "2.42479982241e-07\n"
     ]
    }
   ],
   "source": [
    "print s2"
   ]
  },
  {
   "cell_type": "code",
   "execution_count": 78,
   "metadata": {
    "collapsed": true
   },
   "outputs": [],
   "source": [
    "w_j = delta_s1+delta_s2 + w_b"
   ]
  },
  {
   "cell_type": "code",
   "execution_count": 79,
   "metadata": {
    "collapsed": false
   },
   "outputs": [
    {
     "name": "stdout",
     "output_type": "stream",
     "text": [
      "delta s = delta s1 + delta s2 = 362.949194226 nm\n"
     ]
    }
   ],
   "source": [
    "print 'delta s = delta s1 + delta s2 =', (delta_s1+delta_s2)*10**9, 'nm'"
   ]
  },
  {
   "cell_type": "code",
   "execution_count": 80,
   "metadata": {
    "collapsed": false
   },
   "outputs": [
    {
     "name": "stdout",
     "output_type": "stream",
     "text": [
      "s1+s2 = 498.949194226 nm\n"
     ]
    }
   ],
   "source": [
    "print 's1+s2 =', (s1+s2)*10**9, 'nm'"
   ]
  },
  {
   "cell_type": "code",
   "execution_count": 81,
   "metadata": {
    "collapsed": false
   },
   "outputs": [
    {
     "name": "stdout",
     "output_type": "stream",
     "text": [
      "width first Al layer: w_1 = 256.469211985 nm\n"
     ]
    }
   ],
   "source": [
    "print 'width first Al layer: w_1 =',  s1*10**9, 'nm'"
   ]
  },
  {
   "cell_type": "code",
   "execution_count": 82,
   "metadata": {
    "collapsed": false
   },
   "outputs": [
    {
     "name": "stdout",
     "output_type": "stream",
     "text": [
      "width second Al layer: w_2 = 242.479982241 nm\n"
     ]
    }
   ],
   "source": [
    "print 'width second Al layer: w_2 =', s2*10**9, 'nm'"
   ]
  },
  {
   "cell_type": "code",
   "execution_count": 83,
   "metadata": {
    "collapsed": false
   },
   "outputs": [
    {
     "name": "stdout",
     "output_type": "stream",
     "text": [
      "Junction width: w_j =  430.949194226 nm\n"
     ]
    }
   ],
   "source": [
    "print 'Junction width: w_j = ', w_j*10**9, 'nm'"
   ]
  },
  {
   "cell_type": "code",
   "execution_count": 84,
   "metadata": {
    "collapsed": false
   },
   "outputs": [
    {
     "name": "stdout",
     "output_type": "stream",
     "text": [
      "bridge width for half junction width: w_b_half =  283.474597113 nm\n",
      "half junction width: w_j/2 =  215.474597113 nm\n"
     ]
    }
   ],
   "source": [
    "#idea: calculate the width of the dolan bridge to get the half critical value \n",
    "def w_j(w_b,h_r,alpha_rad,t1):\n",
    "    s1 = np.tan(alpha_rad)*h_r\n",
    "    s2 = np.tan(alpha_rad)*(h_r-t1)\n",
    "    w_b_half = (s1+s2)/2.+w_b/2.\n",
    "    delta_s1 = s1-w_b_half\n",
    "    delta_s2 = s2-w_b_half\n",
    "    print 'bridge width for half junction width: w_b_half = ', w_b_half*10**9, 'nm'\n",
    "    return delta_s1+delta_s2 + w_b_half\n",
    "\n",
    "\n",
    "\n",
    "w_j1 = w_j(w_b,h_r,alpha_rad,t1) \n",
    "print 'half junction width: w_j/2 = ',w_j1*10**9, 'nm'"
   ]
  },
  {
   "cell_type": "code",
   "execution_count": null,
   "metadata": {
    "collapsed": true
   },
   "outputs": [],
   "source": []
  },
  {
   "cell_type": "code",
   "execution_count": null,
   "metadata": {
    "collapsed": true
   },
   "outputs": [],
   "source": []
  },
  {
   "cell_type": "code",
   "execution_count": null,
   "metadata": {
    "collapsed": true
   },
   "outputs": [],
   "source": []
  },
  {
   "cell_type": "code",
   "execution_count": null,
   "metadata": {
    "collapsed": true
   },
   "outputs": [],
   "source": []
  }
 ],
 "metadata": {
  "kernelspec": {
   "display_name": "Python 2",
   "language": "python",
   "name": "python2"
  },
  "language_info": {
   "codemirror_mode": {
    "name": "ipython",
    "version": 2
   },
   "file_extension": ".py",
   "mimetype": "text/x-python",
   "name": "python",
   "nbconvert_exporter": "python",
   "pygments_lexer": "ipython2",
   "version": "2.7.11"
  }
 },
 "nbformat": 4,
 "nbformat_minor": 0
}
