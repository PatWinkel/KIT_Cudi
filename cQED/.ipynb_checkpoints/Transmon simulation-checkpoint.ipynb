{
 "cells": [
  {
   "cell_type": "code",
   "execution_count": 2,
   "metadata": {
    "collapsed": true
   },
   "outputs": [],
   "source": [
    "import sys \n",
    "import os\n",
    "sys.path.append(os.path.abspath(\"/home/pcs/patrick/Dokumente/Github/colormap/\"))\n",
    "import colormaps as cmaps\n"
   ]
  },
  {
   "cell_type": "code",
   "execution_count": 3,
   "metadata": {
    "collapsed": true
   },
   "outputs": [],
   "source": [
    "import numpy as np\n",
    "import scipy.constants as cs\n",
    "import scipy.special as ss\n",
    "from matplotlib import pyplot as plt\n",
    "from matplotlib import cm\n",
    "from qkit.qkit.gui.notebook.Progress_Bar import Progress_Bar as pb\n",
    "from scipy.integrate import dblquad\n",
    "from scipy import integrate\n",
    "\n",
    "%matplotlib inline"
   ]
  },
  {
   "cell_type": "code",
   "execution_count": 507,
   "metadata": {
    "collapsed": true
   },
   "outputs": [],
   "source": [
    "#customized plots:\n",
    "import matplotlib \n",
    "matplotlib.rc('font',**{'family':'sans-serif','sans-serif':['Helvetica']})\n",
    "## for Palatino and other serif fonts use:\n",
    "#rc('font',**{'family':'serif','serif':['Palatino']})\n",
    "matplotlib.rc('text', usetex=True)\n",
    "\n",
    "font = {'family' : 'normal',\n",
    "        'weight' : 'bold',\n",
    "        'size'   : 22}\n",
    "matplotlib.rc('font', **font)\n",
    "matplotlib.rcParams['figure.figsize'] = (10.0,5.0)\n",
    "matplotlib.rcParams['savefig.dpi'] = 100\n",
    "matplotlib.rcParams['legend.shadow'] = True\n",
    "matplotlib.rcParams['savefig.bbox'] = 'tight'\n",
    "\n",
    "\n",
    "cmap_virdis = cmaps.viridis.colors\n"
   ]
  },
  {
   "cell_type": "code",
   "execution_count": 5,
   "metadata": {
    "collapsed": true
   },
   "outputs": [],
   "source": [
    "labelsize = 27"
   ]
  },
  {
   "cell_type": "code",
   "execution_count": 184,
   "metadata": {
    "collapsed": false
   },
   "outputs": [],
   "source": [
    "mu_0 = cs.mu_0                                     #vacuum susceptiblity\n",
    "mu_B = cs.physical_constants['Bohr magneton'][0]   #Bohr magneton in SI units\n",
    "k_b = cs.k                                         #K boltzmann\n",
    "e = cs.e                                           #electron charge\n",
    "hbar = cs.hbar\n",
    "h = cs.h\n",
    "phi_0 = cs.physical_constants['mag. flux quantum'][0]"
   ]
  },
  {
   "cell_type": "code",
   "execution_count": null,
   "metadata": {
    "collapsed": false
   },
   "outputs": [],
   "source": []
  },
  {
   "cell_type": "markdown",
   "metadata": {},
   "source": [
    "### qubit specification:"
   ]
  },
  {
   "cell_type": "code",
   "execution_count": 198,
   "metadata": {
    "collapsed": false
   },
   "outputs": [
    {
     "name": "stdout",
     "output_type": "stream",
     "text": [
      "minimum pulse duration: tau_p = 1.0 ns\n"
     ]
    }
   ],
   "source": [
    "tau_p = 1.*10**(-9)   #minimal pulse duration \n",
    "print 'minimum pulse duration: tau_p = {} ns'.format(tau_p*10**9)"
   ]
  },
  {
   "cell_type": "code",
   "execution_count": 199,
   "metadata": {
    "collapsed": false
   },
   "outputs": [
    {
     "name": "stdout",
     "output_type": "stream",
     "text": [
      "0.159154943092\n"
     ]
    }
   ],
   "source": [
    "Echarge = hbar/tau_p\n",
    "print Echarge/h*10**-9"
   ]
  },
  {
   "cell_type": "code",
   "execution_count": 200,
   "metadata": {
    "collapsed": false
   },
   "outputs": [
    {
     "name": "stdout",
     "output_type": "stream",
     "text": [
      "qubit capacitance: C = 1.2170674046e-13\n"
     ]
    }
   ],
   "source": [
    "C = tau_p*e**2./(2.*hbar)\n",
    "print 'qubit capacitance: C = {}'.format(C)"
   ]
  },
  {
   "cell_type": "code",
   "execution_count": 203,
   "metadata": {
    "collapsed": false
   },
   "outputs": [
    {
     "name": "stdout",
     "output_type": "stream",
     "text": [
      "qubit frequency shift due to Ec: deltaf = 159.154943092 MHz\n"
     ]
    }
   ],
   "source": [
    "Ec = e**2/(2.*C)\n",
    "deltafcap = Ec/h\n",
    "print 'qubit frequency shift due to Ec: deltaf = {} MHz'.format(deltafcap/10**6)"
   ]
  },
  {
   "cell_type": "code",
   "execution_count": 205,
   "metadata": {
    "collapsed": false
   },
   "outputs": [
    {
     "data": {
      "text/plain": [
       "\"EJ = 200*Ec\\nLJ = phi_0**2./(4.*np.pi*EJ)\\nIc = 2.*np.pi*EJ/phi_0\\nprint 'qubit (kinetic) inductance: L = {}'.format(LJ)\\nprint 'Junction critical current: Ic = {} nA'.format(Ic*10**9)\""
      ]
     },
     "execution_count": 205,
     "metadata": {},
     "output_type": "execute_result"
    }
   ],
   "source": [
    "'''EJ = 200*Ec\n",
    "LJ = phi_0**2./(4.*np.pi*EJ)\n",
    "Ic = 2.*np.pi*EJ/phi_0\n",
    "print 'qubit (kinetic) inductance: L = {}'.format(LJ)\n",
    "print 'Junction critical current: Ic = {} nA'.format(Ic*10**9)'''"
   ]
  },
  {
   "cell_type": "code",
   "execution_count": null,
   "metadata": {
    "collapsed": true
   },
   "outputs": [],
   "source": []
  },
  {
   "cell_type": "code",
   "execution_count": null,
   "metadata": {
    "collapsed": true
   },
   "outputs": [],
   "source": []
  },
  {
   "cell_type": "markdown",
   "metadata": {},
   "source": [
    "### readout resonator:"
   ]
  },
  {
   "cell_type": "code",
   "execution_count": 206,
   "metadata": {
    "collapsed": true
   },
   "outputs": [],
   "source": [
    "Tp = 10*10.**(-6)      #relaxation time due to purcell effect"
   ]
  },
  {
   "cell_type": "code",
   "execution_count": 207,
   "metadata": {
    "collapsed": false
   },
   "outputs": [
    {
     "name": "stdout",
     "output_type": "stream",
     "text": [
      "resonator decay rate: kappa = 10.0 MHz\n",
      "resonator quality factor: QL = 3769.91118431\n"
     ]
    }
   ],
   "source": [
    "fc = 6.*10**9                 #resonator frequency\n",
    "kappa = 10*10**6              #resonator decay rate/linewidth\n",
    "QL = (2.*np.pi*fc)/kappa      #resonator quality factor\n",
    "print 'resonator decay rate: kappa = {} MHz'.format(kappa*10**-6)\n",
    "print 'resonator quality factor: QL = {}'.format(QL)"
   ]
  },
  {
   "cell_type": "code",
   "execution_count": 208,
   "metadata": {
    "collapsed": false
   },
   "outputs": [
    {
     "name": "stdout",
     "output_type": "stream",
     "text": [
      "ratio between coupling strength and detuning: g/D = 0.1\n"
     ]
    }
   ],
   "source": [
    "goD = np.sqrt(1./(Tp*kappa))   #ratio between coupling strength and detuning for a Purcell limited T1\n",
    "print 'ratio between coupling strength and detuning: g/D = {}'.format(goD)"
   ]
  },
  {
   "cell_type": "code",
   "execution_count": 209,
   "metadata": {
    "collapsed": false
   },
   "outputs": [
    {
     "name": "stdout",
     "output_type": "stream",
     "text": [
      "dispersive shift: chi = 10.0 MHz\n"
     ]
    }
   ],
   "source": [
    "chi = kappa\n",
    "print 'dispersive shift: chi = {} MHz'.format(chi*10**-6)"
   ]
  },
  {
   "cell_type": "code",
   "execution_count": 210,
   "metadata": {
    "collapsed": false
   },
   "outputs": [
    {
     "name": "stdout",
     "output_type": "stream",
     "text": [
      "qubit-resonator coupling strength: g = 100.0 MHz\n"
     ]
    }
   ],
   "source": [
    "g = kappa/goD  #coupling strength\n",
    "print 'qubit-resonator coupling strength: g = {} MHz'.format(g*10**-6)"
   ]
  },
  {
   "cell_type": "code",
   "execution_count": 211,
   "metadata": {
    "collapsed": false
   },
   "outputs": [
    {
     "name": "stdout",
     "output_type": "stream",
     "text": [
      "qubit-resonator detuning: DELTA = 1.0 GHz\n"
     ]
    }
   ],
   "source": [
    "DELTA = g/goD\n",
    "print 'qubit-resonator detuning: DELTA = {} GHz'.format(DELTA*10**-9)"
   ]
  },
  {
   "cell_type": "code",
   "execution_count": null,
   "metadata": {
    "collapsed": true
   },
   "outputs": [],
   "source": []
  },
  {
   "cell_type": "code",
   "execution_count": null,
   "metadata": {
    "collapsed": true
   },
   "outputs": [],
   "source": []
  },
  {
   "cell_type": "code",
   "execution_count": 212,
   "metadata": {
    "collapsed": false
   },
   "outputs": [
    {
     "name": "stdout",
     "output_type": "stream",
     "text": [
      "qubit frequency: fq = 5.0 GHz\n"
     ]
    }
   ],
   "source": [
    "fq = fc - DELTA\n",
    "print 'qubit frequency: fq = {} GHz'.format(fq*10**-9) "
   ]
  },
  {
   "cell_type": "code",
   "execution_count": 213,
   "metadata": {
    "collapsed": false
   },
   "outputs": [
    {
     "name": "stdout",
     "output_type": "stream",
     "text": [
      "qubit inductance: LJ = 8.32502647426 nH\n",
      "qubit crit. current: Ic = 39.5321222216 nA\n"
     ]
    }
   ],
   "source": [
    "LJ2 = 1./((2.*np.pi*fq)**2.*C) \n",
    "print 'qubit inductance: LJ = {} nH'.format(LJ2*10**9)\n",
    "Ic2 = phi_0/(2.*np.pi*LJ2)\n",
    "print 'qubit crit. current: Ic = {} nA'.format(Ic2*10**9)"
   ]
  },
  {
   "cell_type": "code",
   "execution_count": 214,
   "metadata": {
    "collapsed": false
   },
   "outputs": [
    {
     "name": "stdout",
     "output_type": "stream",
     "text": [
      "EJ/hbar = 123.370055191 GHz\n",
      "Ec/hbar = 1.0 GHz\n"
     ]
    }
   ],
   "source": [
    "EJ2 = phi_0*Ic2/(2.*np.pi)\n",
    "print 'EJ/hbar = {} GHz'.format(EJ2/hbar*10**-9)\n",
    "print 'Ec/hbar = {} GHz'.format(Ec/hbar*10**-9)"
   ]
  },
  {
   "cell_type": "code",
   "execution_count": 215,
   "metadata": {
    "collapsed": false
   },
   "outputs": [
    {
     "name": "stdout",
     "output_type": "stream",
     "text": [
      "EJ/h = 19.6349541132 GHz\n",
      "Ec/h = 0.159154943092 GHz\n"
     ]
    }
   ],
   "source": [
    "print 'EJ/h = {} GHz'.format(EJ2/h*10**-9)\n",
    "print 'Ec/h = {} GHz'.format(Ec/h*10**-9)"
   ]
  },
  {
   "cell_type": "code",
   "execution_count": 216,
   "metadata": {
    "collapsed": false
   },
   "outputs": [
    {
     "name": "stdout",
     "output_type": "stream",
     "text": [
      "EJ/Ec = 123.370055191\n"
     ]
    }
   ],
   "source": [
    "print 'EJ/Ec = {}'.format(EJ2/Ec)"
   ]
  },
  {
   "cell_type": "code",
   "execution_count": null,
   "metadata": {
    "collapsed": true
   },
   "outputs": [],
   "source": []
  },
  {
   "cell_type": "code",
   "execution_count": null,
   "metadata": {
    "collapsed": true
   },
   "outputs": [],
   "source": []
  },
  {
   "cell_type": "markdown",
   "metadata": {},
   "source": [
    "### Concentric Transmon:"
   ]
  },
  {
   "cell_type": "code",
   "execution_count": 187,
   "metadata": {
    "collapsed": false
   },
   "outputs": [
    {
     "name": "stdout",
     "output_type": "stream",
     "text": [
      "qubit res. freq.: f01 = 7.75537438527\n"
     ]
    }
   ],
   "source": [
    "EJcT = 45*10**9.   #divided by h\n",
    "ELcT = 128*10**9.  #divided by h\n",
    "ELtot = (1/EJcT + 1/ELcT)**-1               #total inductive energy\n",
    "ECcT = 0.24*10**9. #divided by h\n",
    "fcT01 = (np.sqrt(8.*(ELtot)*ECcT)-ECcT)\n",
    "print 'qubit res. freq.: f01 = {}'.format(fcT01*10**-9)"
   ]
  },
  {
   "cell_type": "code",
   "execution_count": 158,
   "metadata": {
    "collapsed": false
   },
   "outputs": [
    {
     "data": {
      "text/plain": [
       "187.5"
      ]
     },
     "execution_count": 158,
     "metadata": {},
     "output_type": "execute_result"
    }
   ],
   "source": [
    "EJcT/ECcT"
   ]
  },
  {
   "cell_type": "code",
   "execution_count": 172,
   "metadata": {
    "collapsed": true
   },
   "outputs": [],
   "source": [
    "IccT = 90.*10**-9"
   ]
  },
  {
   "cell_type": "code",
   "execution_count": 181,
   "metadata": {
    "collapsed": true
   },
   "outputs": [],
   "source": [
    "CcT = 81*10**-15"
   ]
  },
  {
   "cell_type": "code",
   "execution_count": null,
   "metadata": {
    "collapsed": true
   },
   "outputs": [],
   "source": []
  },
  {
   "cell_type": "markdown",
   "metadata": {},
   "source": [
    "### Eigenenergies:"
   ]
  },
  {
   "cell_type": "code",
   "execution_count": 218,
   "metadata": {
    "collapsed": true
   },
   "outputs": [],
   "source": [
    "m = 2*(ng+k)\n",
    "ss.mathieu_a()"
   ]
  },
  {
   "cell_type": "code",
   "execution_count": 345,
   "metadata": {
    "collapsed": false
   },
   "outputs": [],
   "source": [
    "def k(m,ng):\n",
    "    k = 0.\n",
    "    k_array = []\n",
    "    l = [+1,-1]\n",
    "    try:\n",
    "        for j in ng:\n",
    "            k = 0\n",
    "            for i in l:\n",
    "                k += (np.mod(int(2.*j+i/2.),2))*(int(j)+i*(-1)**m*(int((m+1.)/2.)))\n",
    "            k_array.append(k)\n",
    "        return k_array\n",
    "    except:\n",
    "        for i in l:\n",
    "            k += (np.mod(int(2.*ng+i/2.),2))*(int(ng)+i*(-1)**m*(int((m+1.)/2.)))\n",
    "        return k"
   ]
  },
  {
   "cell_type": "code",
   "execution_count": 428,
   "metadata": {
    "collapsed": false
   },
   "outputs": [],
   "source": [
    "def Em(m,ng, Ec, EJ):\n",
    "    '''Transmon eigenenergies in the phase basis;\n",
    "    Mathieu function returns nan for negative index v (-> absolute value)'''\n",
    "    E_array = []\n",
    "    try:\n",
    "        for i in ng:\n",
    "            v = 2.*(i+k(m,i))\n",
    "            E_array.append(Ec*ss.mathieu_a(v,-2.*EJ/(Ec)))\n",
    "        return np.array(E_array)\n",
    "    except:\n",
    "        v = 2.*(ng+k(m,ng))\n",
    "        return Ec*ss.mathieu_a(v,-EJ/(2.*Ec))"
   ]
  },
  {
   "cell_type": "code",
   "execution_count": 430,
   "metadata": {
    "collapsed": false
   },
   "outputs": [
    {
     "data": {
      "text/plain": [
       "nan"
      ]
     },
     "execution_count": 430,
     "metadata": {},
     "output_type": "execute_result"
    }
   ],
   "source": [
    "Em(1,5.1,Ec,EJ)"
   ]
  },
  {
   "cell_type": "code",
   "execution_count": 426,
   "metadata": {
    "collapsed": true
   },
   "outputs": [],
   "source": [
    "ng = np.linspace(-2.,2.,100)"
   ]
  },
  {
   "cell_type": "code",
   "execution_count": 446,
   "metadata": {
    "collapsed": false
   },
   "outputs": [
    {
     "ename": "ValueError",
     "evalue": "x and y must have same first dimension",
     "output_type": "error",
     "traceback": [
      "\u001b[0;31m---------------------------------------------------------------------------\u001b[0m",
      "\u001b[0;31mValueError\u001b[0m                                Traceback (most recent call last)",
      "\u001b[0;32m<ipython-input-446-c9d1d90da8e2>\u001b[0m in \u001b[0;36m<module>\u001b[0;34m()\u001b[0m\n\u001b[0;32m----> 1\u001b[0;31m \u001b[0mplt\u001b[0m\u001b[0;34m.\u001b[0m\u001b[0mplot\u001b[0m\u001b[0;34m(\u001b[0m\u001b[0mng\u001b[0m\u001b[0;34m,\u001b[0m \u001b[0mss\u001b[0m\u001b[0;34m.\u001b[0m\u001b[0mmathieu_cem\u001b[0m\u001b[0;34m(\u001b[0m\u001b[0;36m1\u001b[0m\u001b[0;34m,\u001b[0m\u001b[0mfloat\u001b[0m\u001b[0;34m(\u001b[0m\u001b[0;36m1.5\u001b[0m\u001b[0;34m)\u001b[0m\u001b[0;34m,\u001b[0m\u001b[0;36m0\u001b[0m\u001b[0;34m)\u001b[0m\u001b[0;34m)\u001b[0m\u001b[0;34m\u001b[0m\u001b[0m\n\u001b[0m",
      "\u001b[0;32m/usr/lib/pymodules/python2.7/matplotlib/pyplot.pyc\u001b[0m in \u001b[0;36mplot\u001b[0;34m(*args, **kwargs)\u001b[0m\n\u001b[1;32m   2985\u001b[0m         \u001b[0max\u001b[0m\u001b[0;34m.\u001b[0m\u001b[0mhold\u001b[0m\u001b[0;34m(\u001b[0m\u001b[0mhold\u001b[0m\u001b[0;34m)\u001b[0m\u001b[0;34m\u001b[0m\u001b[0m\n\u001b[1;32m   2986\u001b[0m     \u001b[0;32mtry\u001b[0m\u001b[0;34m:\u001b[0m\u001b[0;34m\u001b[0m\u001b[0m\n\u001b[0;32m-> 2987\u001b[0;31m         \u001b[0mret\u001b[0m \u001b[0;34m=\u001b[0m \u001b[0max\u001b[0m\u001b[0;34m.\u001b[0m\u001b[0mplot\u001b[0m\u001b[0;34m(\u001b[0m\u001b[0;34m*\u001b[0m\u001b[0margs\u001b[0m\u001b[0;34m,\u001b[0m \u001b[0;34m**\u001b[0m\u001b[0mkwargs\u001b[0m\u001b[0;34m)\u001b[0m\u001b[0;34m\u001b[0m\u001b[0m\n\u001b[0m\u001b[1;32m   2988\u001b[0m         \u001b[0mdraw_if_interactive\u001b[0m\u001b[0;34m(\u001b[0m\u001b[0;34m)\u001b[0m\u001b[0;34m\u001b[0m\u001b[0m\n\u001b[1;32m   2989\u001b[0m     \u001b[0;32mfinally\u001b[0m\u001b[0;34m:\u001b[0m\u001b[0;34m\u001b[0m\u001b[0m\n",
      "\u001b[0;32m/usr/lib/pymodules/python2.7/matplotlib/axes.pyc\u001b[0m in \u001b[0;36mplot\u001b[0;34m(self, *args, **kwargs)\u001b[0m\n\u001b[1;32m   4135\u001b[0m         \u001b[0mlines\u001b[0m \u001b[0;34m=\u001b[0m \u001b[0;34m[\u001b[0m\u001b[0;34m]\u001b[0m\u001b[0;34m\u001b[0m\u001b[0m\n\u001b[1;32m   4136\u001b[0m \u001b[0;34m\u001b[0m\u001b[0m\n\u001b[0;32m-> 4137\u001b[0;31m         \u001b[0;32mfor\u001b[0m \u001b[0mline\u001b[0m \u001b[0;32min\u001b[0m \u001b[0mself\u001b[0m\u001b[0;34m.\u001b[0m\u001b[0m_get_lines\u001b[0m\u001b[0;34m(\u001b[0m\u001b[0;34m*\u001b[0m\u001b[0margs\u001b[0m\u001b[0;34m,\u001b[0m \u001b[0;34m**\u001b[0m\u001b[0mkwargs\u001b[0m\u001b[0;34m)\u001b[0m\u001b[0;34m:\u001b[0m\u001b[0;34m\u001b[0m\u001b[0m\n\u001b[0m\u001b[1;32m   4138\u001b[0m             \u001b[0mself\u001b[0m\u001b[0;34m.\u001b[0m\u001b[0madd_line\u001b[0m\u001b[0;34m(\u001b[0m\u001b[0mline\u001b[0m\u001b[0;34m)\u001b[0m\u001b[0;34m\u001b[0m\u001b[0m\n\u001b[1;32m   4139\u001b[0m             \u001b[0mlines\u001b[0m\u001b[0;34m.\u001b[0m\u001b[0mappend\u001b[0m\u001b[0;34m(\u001b[0m\u001b[0mline\u001b[0m\u001b[0;34m)\u001b[0m\u001b[0;34m\u001b[0m\u001b[0m\n",
      "\u001b[0;32m/usr/lib/pymodules/python2.7/matplotlib/axes.pyc\u001b[0m in \u001b[0;36m_grab_next_args\u001b[0;34m(self, *args, **kwargs)\u001b[0m\n\u001b[1;32m    315\u001b[0m                 \u001b[0;32mreturn\u001b[0m\u001b[0;34m\u001b[0m\u001b[0m\n\u001b[1;32m    316\u001b[0m             \u001b[0;32mif\u001b[0m \u001b[0mlen\u001b[0m\u001b[0;34m(\u001b[0m\u001b[0mremaining\u001b[0m\u001b[0;34m)\u001b[0m \u001b[0;34m<=\u001b[0m \u001b[0;36m3\u001b[0m\u001b[0;34m:\u001b[0m\u001b[0;34m\u001b[0m\u001b[0m\n\u001b[0;32m--> 317\u001b[0;31m                 \u001b[0;32mfor\u001b[0m \u001b[0mseg\u001b[0m \u001b[0;32min\u001b[0m \u001b[0mself\u001b[0m\u001b[0;34m.\u001b[0m\u001b[0m_plot_args\u001b[0m\u001b[0;34m(\u001b[0m\u001b[0mremaining\u001b[0m\u001b[0;34m,\u001b[0m \u001b[0mkwargs\u001b[0m\u001b[0;34m)\u001b[0m\u001b[0;34m:\u001b[0m\u001b[0;34m\u001b[0m\u001b[0m\n\u001b[0m\u001b[1;32m    318\u001b[0m                     \u001b[0;32myield\u001b[0m \u001b[0mseg\u001b[0m\u001b[0;34m\u001b[0m\u001b[0m\n\u001b[1;32m    319\u001b[0m                 \u001b[0;32mreturn\u001b[0m\u001b[0;34m\u001b[0m\u001b[0m\n",
      "\u001b[0;32m/usr/lib/pymodules/python2.7/matplotlib/axes.pyc\u001b[0m in \u001b[0;36m_plot_args\u001b[0;34m(self, tup, kwargs)\u001b[0m\n\u001b[1;32m    293\u001b[0m             \u001b[0mx\u001b[0m \u001b[0;34m=\u001b[0m \u001b[0mnp\u001b[0m\u001b[0;34m.\u001b[0m\u001b[0marange\u001b[0m\u001b[0;34m(\u001b[0m\u001b[0my\u001b[0m\u001b[0;34m.\u001b[0m\u001b[0mshape\u001b[0m\u001b[0;34m[\u001b[0m\u001b[0;36m0\u001b[0m\u001b[0;34m]\u001b[0m\u001b[0;34m,\u001b[0m \u001b[0mdtype\u001b[0m\u001b[0;34m=\u001b[0m\u001b[0mfloat\u001b[0m\u001b[0;34m)\u001b[0m\u001b[0;34m\u001b[0m\u001b[0m\n\u001b[1;32m    294\u001b[0m \u001b[0;34m\u001b[0m\u001b[0m\n\u001b[0;32m--> 295\u001b[0;31m         \u001b[0mx\u001b[0m\u001b[0;34m,\u001b[0m \u001b[0my\u001b[0m \u001b[0;34m=\u001b[0m \u001b[0mself\u001b[0m\u001b[0;34m.\u001b[0m\u001b[0m_xy_from_xy\u001b[0m\u001b[0;34m(\u001b[0m\u001b[0mx\u001b[0m\u001b[0;34m,\u001b[0m \u001b[0my\u001b[0m\u001b[0;34m)\u001b[0m\u001b[0;34m\u001b[0m\u001b[0m\n\u001b[0m\u001b[1;32m    296\u001b[0m \u001b[0;34m\u001b[0m\u001b[0m\n\u001b[1;32m    297\u001b[0m         \u001b[0;32mif\u001b[0m \u001b[0mself\u001b[0m\u001b[0;34m.\u001b[0m\u001b[0mcommand\u001b[0m \u001b[0;34m==\u001b[0m \u001b[0;34m'plot'\u001b[0m\u001b[0;34m:\u001b[0m\u001b[0;34m\u001b[0m\u001b[0m\n",
      "\u001b[0;32m/usr/lib/pymodules/python2.7/matplotlib/axes.pyc\u001b[0m in \u001b[0;36m_xy_from_xy\u001b[0;34m(self, x, y)\u001b[0m\n\u001b[1;32m    235\u001b[0m         \u001b[0my\u001b[0m \u001b[0;34m=\u001b[0m \u001b[0mnp\u001b[0m\u001b[0;34m.\u001b[0m\u001b[0matleast_1d\u001b[0m\u001b[0;34m(\u001b[0m\u001b[0my\u001b[0m\u001b[0;34m)\u001b[0m\u001b[0;34m\u001b[0m\u001b[0m\n\u001b[1;32m    236\u001b[0m         \u001b[0;32mif\u001b[0m \u001b[0mx\u001b[0m\u001b[0;34m.\u001b[0m\u001b[0mshape\u001b[0m\u001b[0;34m[\u001b[0m\u001b[0;36m0\u001b[0m\u001b[0;34m]\u001b[0m \u001b[0;34m!=\u001b[0m \u001b[0my\u001b[0m\u001b[0;34m.\u001b[0m\u001b[0mshape\u001b[0m\u001b[0;34m[\u001b[0m\u001b[0;36m0\u001b[0m\u001b[0;34m]\u001b[0m\u001b[0;34m:\u001b[0m\u001b[0;34m\u001b[0m\u001b[0m\n\u001b[0;32m--> 237\u001b[0;31m             \u001b[0;32mraise\u001b[0m \u001b[0mValueError\u001b[0m\u001b[0;34m(\u001b[0m\u001b[0;34m\"x and y must have same first dimension\"\u001b[0m\u001b[0;34m)\u001b[0m\u001b[0;34m\u001b[0m\u001b[0m\n\u001b[0m\u001b[1;32m    238\u001b[0m         \u001b[0;32mif\u001b[0m \u001b[0mx\u001b[0m\u001b[0;34m.\u001b[0m\u001b[0mndim\u001b[0m \u001b[0;34m>\u001b[0m \u001b[0;36m2\u001b[0m \u001b[0;32mor\u001b[0m \u001b[0my\u001b[0m\u001b[0;34m.\u001b[0m\u001b[0mndim\u001b[0m \u001b[0;34m>\u001b[0m \u001b[0;36m2\u001b[0m\u001b[0;34m:\u001b[0m\u001b[0;34m\u001b[0m\u001b[0m\n\u001b[1;32m    239\u001b[0m             \u001b[0;32mraise\u001b[0m \u001b[0mValueError\u001b[0m\u001b[0;34m(\u001b[0m\u001b[0;34m\"x and y can be no greater than 2-D\"\u001b[0m\u001b[0;34m)\u001b[0m\u001b[0;34m\u001b[0m\u001b[0m\n",
      "\u001b[0;31mValueError\u001b[0m: x and y must have same first dimension"
     ]
    },
    {
     "data": {
      "image/png": "[encoded data removed]",
      "text/plain": [
       "<matplotlib.figure.Figure at 0x7f44fa52eb10>"
      ]
     },
     "metadata": {},
     "output_type": "display_data"
    }
   ],
   "source": [
    "plt.plot(ng, ss.mathieu_cem(1,float(1.5),0))"
   ]
  },
  {
   "cell_type": "code",
   "execution_count": 427,
   "metadata": {
    "collapsed": false
   },
   "outputs": [
    {
     "data": {
      "text/plain": [
       "array([             nan,              nan,              nan,\n",
       "                    nan,              nan,              nan,\n",
       "                    nan,              nan,              nan,\n",
       "                    nan,              nan,              nan,\n",
       "                    nan,              nan,              nan,\n",
       "                    nan,              nan,              nan,\n",
       "                    nan,              nan,              nan,\n",
       "                    nan,              nan,              nan,\n",
       "                    nan,              nan,              nan,\n",
       "                    nan,              nan,              nan,\n",
       "                    nan,              nan,              nan,\n",
       "                    nan,              nan,              nan,\n",
       "                    nan,              nan,              nan,\n",
       "                    nan,              nan,              nan,\n",
       "                    nan,              nan,              nan,\n",
       "                    nan,              nan,              nan,\n",
       "                    nan,              nan,              nan,\n",
       "                    nan,              nan,              nan,\n",
       "                    nan,              nan,              nan,\n",
       "                    nan,              nan,              nan,\n",
       "                    nan,              nan,              nan,\n",
       "                    nan,              nan,              nan,\n",
       "                    nan,              nan,              nan,\n",
       "                    nan,              nan,              nan,\n",
       "                    nan,              nan,              nan,\n",
       "                    nan,              nan,              nan,\n",
       "                    nan,              nan,              nan,\n",
       "                    nan,              nan,              nan,\n",
       "                    nan,              nan,              nan,\n",
       "                    nan,              nan,              nan,\n",
       "                    nan,              nan,              nan,\n",
       "                    nan,              nan,              nan,\n",
       "                    nan,              nan,              nan,\n",
       "         1.60728962e-23])"
      ]
     },
     "execution_count": 427,
     "metadata": {},
     "output_type": "execute_result"
    }
   ],
   "source": [
    "Em(1,ng, Ec, EJ)"
   ]
  },
  {
   "cell_type": "code",
   "execution_count": null,
   "metadata": {
    "collapsed": true
   },
   "outputs": [],
   "source": []
  },
  {
   "cell_type": "code",
   "execution_count": null,
   "metadata": {
    "collapsed": true
   },
   "outputs": [],
   "source": []
  },
  {
   "cell_type": "code",
   "execution_count": 457,
   "metadata": {
    "collapsed": true
   },
   "outputs": [],
   "source": [
    "def EmTM(m, Ec,EJ):\n",
    "    return -EJ+np.sqrt(8.*EJ*Ec)*(m+0.5)-Ec*(6.*m**2.+6*m+3.)/12"
   ]
  },
  {
   "cell_type": "code",
   "execution_count": 494,
   "metadata": {
    "collapsed": true
   },
   "outputs": [],
   "source": [
    "def DeltaEm(m, EJEC, Ec):\n",
    "    return (np.sqrt(8.*EJEC)*m-(6.*m**2.+6.*m)/12.)"
   ]
  },
  {
   "cell_type": "code",
   "execution_count": 495,
   "metadata": {
    "collapsed": false
   },
   "outputs": [
    {
     "data": {
      "text/plain": [
       "-1.4895825620375084e-23"
      ]
     },
     "execution_count": 495,
     "metadata": {},
     "output_type": "execute_result"
    }
   ],
   "source": [
    "EmTM(1,Ec,EJ)"
   ]
  },
  {
   "cell_type": "code",
   "execution_count": 496,
   "metadata": {
    "collapsed": false
   },
   "outputs": [
    {
     "data": {
      "text/plain": [
       "0.46902654867256649"
      ]
     },
     "execution_count": 496,
     "metadata": {},
     "output_type": "execute_result"
    }
   ],
   "source": [
    "EmTM(3,Ec,EJ)/EmTM(1,Ec,EJ)"
   ]
  },
  {
   "cell_type": "code",
   "execution_count": 497,
   "metadata": {
    "collapsed": false
   },
   "outputs": [],
   "source": [
    "EJEC = np.linspace(0,140,1000)"
   ]
  },
  {
   "cell_type": "code",
   "execution_count": 541,
   "metadata": {
    "collapsed": false
   },
   "outputs": [
    {
     "data": {
      "text/plain": [
       "<matplotlib.legend.Legend at 0x7f44f339f410>"
      ]
     },
     "execution_count": 541,
     "metadata": {},
     "output_type": "execute_result"
    },
    {
     "data": {
      "image/png": "[encoded data removed]",
      "text/plain": [
       "<matplotlib.figure.Figure at 0x7f44f34bdc10>"
      ]
     },
     "metadata": {},
     "output_type": "display_data"
    }
   ],
   "source": [
    "fig_Em, ax = plt.subplots(figsize =(10,6))\n",
    "ax.set_xlabel(r'$\\frac{E_J}{E_C}$')\n",
    "ax.set_ylabel(r'$(E_m - E_0)/E_C$')\n",
    "ax.set_title(r'energy spectrum Transmon')\n",
    "ax.plot(EJEC, DeltaEm(0,EJEC,Ec), label = 'm = 0', color = 'black', lw = 2)\n",
    "ax.plot(EJEC, DeltaEm(1,EJEC,Ec), label = 'm = 1', color = 'blue', lw = 2)\n",
    "ax.plot(EJEC, DeltaEm(2,EJEC,Ec), label = 'm = 2', color = 'red', lw = 2)\n",
    "ax.plot(EJEC, DeltaEm(3,EJEC,Ec), label = 'm = 3', color = 'grey', lw = 2)\n",
    "ax.legend(loc = 'upper center', bbox_to_anchor = (0.5,-0.2), ncol = 4, fontsize =20, frameon = False, title = 'Transmon state')\n"
   ]
  },
  {
   "cell_type": "code",
   "execution_count": null,
   "metadata": {
    "collapsed": true
   },
   "outputs": [],
   "source": []
  },
  {
   "cell_type": "code",
   "execution_count": 456,
   "metadata": {
    "collapsed": true
   },
   "outputs": [],
   "source": [
    "def K11(Ic, omega, a, l):\n",
    "    '''self-Kerr for the fundamental mode of a granular aluminum resonator\n",
    "    omega: resonance frequency\n",
    "    a: approximately grain size\n",
    "    l: length\n",
    "    Ic: critical current of a single junction'''\n",
    "    return 3.*np.pi*e*omega**2.*a/(16.*Ic*l)"
   ]
  },
  {
   "cell_type": "code",
   "execution_count": null,
   "metadata": {
    "collapsed": true
   },
   "outputs": [],
   "source": []
  },
  {
   "cell_type": "code",
   "execution_count": 542,
   "metadata": {
    "collapsed": true
   },
   "outputs": [],
   "source": [
    "def selfK(a,l,Ec):\n",
    "    return -2*a**2.*Ec/(3.*l**2.*hbar)"
   ]
  },
  {
   "cell_type": "code",
   "execution_count": 548,
   "metadata": {
    "collapsed": false
   },
   "outputs": [
    {
     "data": {
      "text/plain": [
       "[<matplotlib.lines.Line2D at 0x7f44f2e51d90>]"
      ]
     },
     "execution_count": 548,
     "metadata": {},
     "output_type": "execute_result"
    },
    {
     "data": {
      "image/png": "[encoded data removed]",
      "text/plain": [
       "<matplotlib.figure.Figure at 0x7f44f3951650>"
      ]
     },
     "metadata": {},
     "output_type": "display_data"
    }
   ],
   "source": [
    "a = 4.*10**-9 #grainsize\n",
    "l = 50.*10**-9 #GraAl length\n",
    "C1 = 500*10**-15.\n",
    "C2 = 50*10**-15.\n",
    "Ec1 = e**2/(2.*C1)\n",
    "Ec2 = e**2./(2.*C2)\n",
    "Ecc = np.linspace(Ec1,Ec2, 100)\n",
    "figKerr, ax = plt.subplots(figsize = (10,6))\n",
    "ax.set_ylabel(r'$K_{11}\\,\\mathrm{[MHz]}$')\n",
    "ax.set_xlabel(r'$E_c$')\n",
    "ax.plot(Ecc, selfK(a,l,Ecc)/10**6)"
   ]
  },
  {
   "cell_type": "code",
   "execution_count": null,
   "metadata": {
    "collapsed": true
   },
   "outputs": [],
   "source": []
  },
  {
   "cell_type": "code",
   "execution_count": null,
   "metadata": {
    "collapsed": true
   },
   "outputs": [],
   "source": []
  }
 ],
 "metadata": {
  "kernelspec": {
   "display_name": "Python 2",
   "language": "python",
   "name": "python2"
  },
  "language_info": {
   "codemirror_mode": {
    "name": "ipython",
    "version": 2
   },
   "file_extension": ".py",
   "mimetype": "text/x-python",
   "name": "python",
   "nbconvert_exporter": "python",
   "pygments_lexer": "ipython2",
   "version": "2.7.6"
  }
 },
 "nbformat": 4,
 "nbformat_minor": 2
}
