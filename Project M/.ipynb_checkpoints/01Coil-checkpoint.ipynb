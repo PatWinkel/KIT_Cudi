{
 "cells": [
  {
   "cell_type": "code",
   "execution_count": 6,
   "metadata": {
    "collapsed": true
   },
   "outputs": [],
   "source": [
    "import sys \n",
    "import os\n",
    "sys.path.append(os.path.abspath(\"/home/pcs/patrick/Dokumente/Github/colormap/\"))\n",
    "import colormaps as cmaps\n"
   ]
  },
  {
   "cell_type": "code",
   "execution_count": 7,
   "metadata": {
    "collapsed": true
   },
   "outputs": [],
   "source": [
    "from __future__ import division"
   ]
  },
  {
   "cell_type": "code",
   "execution_count": 8,
   "metadata": {
    "collapsed": true
   },
   "outputs": [],
   "source": [
    "def truncate(f, n):\n",
    "    '''Truncates/pads a float f to n decimal places without rounding'''\n",
    "    s = '{}'.format(f)\n",
    "    if 'e' in s or 'E' in s:\n",
    "        return '{0:.{1}f}'.format(f, n)\n",
    "    i, p, d = s.partition('.')\n",
    "    return '.'.join([i, (d+'0'*n)[:n]])"
   ]
  },
  {
   "cell_type": "code",
   "execution_count": 9,
   "metadata": {
    "collapsed": true
   },
   "outputs": [],
   "source": [
    "import numpy as np\n",
    "import scipy.constants as cs\n",
    "import scipy.special as ss\n",
    "import scipy.optimize as so\n",
    "from matplotlib import pyplot as plt\n",
    "from matplotlib import cm\n",
    "from qkit.qkit.gui.notebook.Progress_Bar import Progress_Bar as pb\n",
    "from scipy.integrate import dblquad\n",
    "from scipy import integrate\n",
    "import math as math\n",
    "\n",
    "%matplotlib inline"
   ]
  },
  {
   "cell_type": "code",
   "execution_count": 10,
   "metadata": {
    "collapsed": true
   },
   "outputs": [],
   "source": [
    "#customized plots:\n",
    "import matplotlib \n",
    "matplotlib.rc('font',**{'family':'sans-serif','sans-serif':['Helvetica']})\n",
    "## for Palatino and other serif fonts use:\n",
    "#rc('font',**{'family':'serif','serif':['Palatino']})\n",
    "matplotlib.rc('text', usetex=True)\n",
    "\n",
    "font = {'family' : 'normal',\n",
    "        'weight' : 'bold',\n",
    "        'size'   : 22}\n",
    "matplotlib.rc('font', **font)\n",
    "matplotlib.rcParams['figure.figsize'] = (8.0,5.0)\n",
    "matplotlib.rcParams['savefig.dpi'] = 100\n",
    "matplotlib.rcParams['legend.shadow'] = True\n",
    "matplotlib.rcParams['savefig.bbox'] = 'tight'\n",
    "\n",
    "\n",
    "\n",
    "\n",
    "cmap_virdis = cmaps.viridis.colors\n"
   ]
  },
  {
   "cell_type": "code",
   "execution_count": 11,
   "metadata": {
    "collapsed": true
   },
   "outputs": [],
   "source": [
    "labelsize = 27"
   ]
  },
  {
   "cell_type": "code",
   "execution_count": 12,
   "metadata": {
    "collapsed": true
   },
   "outputs": [],
   "source": [
    "mu_0 = cs.mu_0\n",
    "mu_B = cs.physical_constants['Bohr magneton'][0]   #Bohr magneton in SI units\n",
    "k_b = cs.k"
   ]
  },
  {
   "cell_type": "code",
   "execution_count": null,
   "metadata": {
    "collapsed": true
   },
   "outputs": [],
   "source": []
  },
  {
   "cell_type": "markdown",
   "metadata": {},
   "source": [
    "### Radial-component Br"
   ]
  },
  {
   "cell_type": "code",
   "execution_count": 22,
   "metadata": {
    "collapsed": true
   },
   "outputs": [],
   "source": [
    "#remark: calculation fails if r = 0 and k = 0\n",
    "\n",
    "def B_r(r,z,z0, I, R, N):\n",
    "    #B_amp = mu_0*I*R**2./2.\n",
    "    B_amp = mu_0*I*R**2.*(z-z0)/(2.*np.sqrt((z-z0)**2.))      #introduced a z dependent factor equal to one z/np.sqrt(z**2) but with different sign \n",
    "    B = np.float64(0)                                         #below and above the loop\n",
    "    if np.abs(z-z0) <= 10**(-7):\n",
    "        #print 'Encountered small number'\n",
    "        return np.float64(0.)\n",
    "    else:\n",
    "        try:\n",
    "            for k in range(N):\n",
    "                if r == 0:\n",
    "                    k +=1\n",
    "                B += (-1.)**(k+1.)*k*np.power(r,(2.*k-1.))/(2.**k*math.factorial(k))**2.*np.power((z-z0),(-2.*(k+1)))*ss.gamma(2.*(k+1.))*ss.hyp2f1(k+1,k+3/2.,2., -(R/(z-z0))**2)\n",
    "            return B_amp*B\n",
    "        except (RuntimeWarning, ZeroDivisionError):  #changed (-2.*(k+1)) to (-2*k+1)\n",
    "            print 'ZeroDivisionError encountered' \n"
   ]
  },
  {
   "cell_type": "markdown",
   "metadata": {},
   "source": [
    "### Z-component Bz"
   ]
  },
  {
   "cell_type": "code",
   "execution_count": 23,
   "metadata": {
    "collapsed": true
   },
   "outputs": [],
   "source": [
    "#still wrong for z-z0 = 0 since the solution does not depend on r and is only valid for \n",
    "#r = 0. Therefore the dimension of the used arrays for r and z should be even!\n",
    "\n",
    "def B_z(r,z,z0, I, R, N):\n",
    "    B_amp = mu_0*I*R**2./2.\n",
    "    B = np.float64(0)\n",
    "    if np.abs(z-z0) <= 10**(-7):\n",
    "        #print 'Encountered small number'\n",
    "        return mu_0*I*R**2./(2.*(R**2.)**(3./2.))\n",
    "    else:\n",
    "        try:\n",
    "            for k in range(N):\n",
    "                B += (-1.)**(k)*(k+1.)*np.power(r,(2.*k))/(2.**k*math.factorial(k))**2.*np.power(np.abs(z-z0),(-(2.*k+3.)))*ss.gamma(2.*(k+1.))*ss.hyp2f1(k+3/2.,k+2.,2., -(R/(z-z0))**2.)\n",
    "            return B_amp*B\n",
    "        except (RuntimeWarning, ZeroDivisionError):  \n",
    "            print 'ZeroDivisionError encountered' \n",
    "        "
   ]
  },
  {
   "cell_type": "markdown",
   "metadata": {},
   "source": [
    "## Single loop"
   ]
  },
  {
   "cell_type": "code",
   "execution_count": 24,
   "metadata": {
    "collapsed": true
   },
   "outputs": [],
   "source": [
    "def B_SC(r,z,z0,I,R,N):\n",
    "    '''\n",
    "    magnetic field of a coil with a single loop\n",
    "    \n",
    "    d_wire: wire diameter\n",
    "    r: radial direction/dimensions\n",
    "    z: vertical direction/dimensions\n",
    "    z0: vertical start position\n",
    "    I: max. current\n",
    "    R: initial coil radius\n",
    "    N: number of sqaures'''\n",
    "    Bz2D = []\n",
    "    Br2D = []\n",
    "    for z1 in z:\n",
    "        Bzr = []\n",
    "        Brr = []\n",
    "        for r1 in r:\n",
    "            Brr.append(B_r(r1,z1,z0,I,R,N))\n",
    "            Bzr.append(B_z(r1,z1,z0,I,R,N))\n",
    "        Bz2D.append(Bzr)\n",
    "        Br2D.append(Brr)\n",
    "    Bz2D = np.array(Bz2D, dtype=np.float64)\n",
    "    Br2D = np.array(Br2D, dtype=np.float64)\n",
    "    return np.array([Bz2D, Br2D],dtype=np.float64)"
   ]
  },
  {
   "cell_type": "markdown",
   "metadata": {},
   "source": [
    "## Multiple loops"
   ]
  },
  {
   "cell_type": "code",
   "execution_count": 25,
   "metadata": {
    "collapsed": true
   },
   "outputs": [],
   "source": [
    "def B_HH(n,n_layer,d_wire,r,z,z0,I,R,N):\n",
    "    '''magnetic field of a coil of n*n_layer windings, each winding is represented \n",
    "    by an individual single loop coil\n",
    "    \n",
    "    n: number of windings per layer\n",
    "    n_layer: total number of layer\n",
    "    d_wire: wire diameter\n",
    "    r: radial direction/dimensions\n",
    "    z: vertical direction/dimensions\n",
    "    z0: vertical start position\n",
    "    I: max. current\n",
    "    R: initial coil radius\n",
    "    N: number iterations'''\n",
    "    Ndimr = len(r)\n",
    "    Ndimz = len(z)\n",
    "    B_HHr = np.zeros([Ndimr,Ndimz])\n",
    "    B_HHz = np.zeros([Ndimr,Ndimz])\n",
    "    \n",
    "    \n",
    "    #position = pos(n, n_layer, R, z0, d_wire)\n",
    "    #startr = int(R/d_wire)\n",
    "    #startz = int(z0/d_wire)\n",
    "    \n",
    "    #removed k: next winding is always placed above the previous one\n",
    "    \n",
    "    p1 = pb(n*n_layer)\n",
    "    for j in range(n_layer):\n",
    "        #print\n",
    "        #print R\n",
    "        #print\n",
    "        for i in range(n):\n",
    "            B_HHz += B_SC(r,z,z0,I,R,N)[0]\n",
    "            B_HHr += B_SC(r,z,z0,I,R,N)[1]\n",
    "            #print z0\n",
    "            #position[startz+j][startr+i] += 1\n",
    "            p1.iterate()\n",
    "            z0+=d_wire   #the vertical position changes with each added winding/loop\n",
    "        z0 -= n*d_wire   #\n",
    "        R += d_wire  #the coil radius increases with every added layer of windings\n",
    "    return np.array([B_HHz, B_HHr], dtype = np.float64)\n",
    "        \n",
    "        \n",
    "    "
   ]
  },
  {
   "cell_type": "code",
   "execution_count": null,
   "metadata": {
    "collapsed": true
   },
   "outputs": [],
   "source": [
    "def coil_length(n, n_layer, d_wire, R_min):\n",
    "    l = 0.\n",
    "    R = R_min\n",
    "    for i in range(n_layer):\n",
    "        for j in range(n):\n",
    "            l += 2.*np.pi*R\n",
    "        R +=d_wire\n",
    "    return l"
   ]
  },
  {
   "cell_type": "markdown",
   "metadata": {},
   "source": [
    "## Calculation parameters"
   ]
  },
  {
   "cell_type": "code",
   "execution_count": 13,
   "metadata": {
    "collapsed": true
   },
   "outputs": [],
   "source": [
    "N = 10      #number of terms in sum\n",
    "\n",
    "R_min = 4.*10**(-3)                   #coil radius in m\n",
    "R_max = 7.*10**(-3)\n",
    "d_wire = 0.13*10**(-3.)           #wire diameter in m\n",
    "z0 = -20.*10**(-3)    #vertical position of coil\n",
    "\n",
    "n_layer = int((R_max-R_min)/d_wire)      #number of windings per layer\n",
    "n = int(2.*np.abs(z0)/d_wire)  #number of layer\n",
    "\n",
    "\n",
    "I_max = 1.                        #max. current in amps\n",
    "\n"
   ]
  },
  {
   "cell_type": "code",
   "execution_count": 128,
   "metadata": {
    "collapsed": false
   },
   "outputs": [
    {
     "name": "stdout",
     "output_type": "stream",
     "text": [
      "n = 307\n",
      "n_layer = 23\n",
      "\n",
      "n x d_wire = 39.91 mm \n"
     ]
    }
   ],
   "source": [
    "print 'n = {}'.format(n)\n",
    "print 'n_layer = {}'.format(n_layer)\n",
    "print\n",
    "print 'n x d_wire = {} mm '.format(n*d_wire*10**3)"
   ]
  },
  {
   "cell_type": "code",
   "execution_count": 28,
   "metadata": {
    "collapsed": false
   },
   "outputs": [
    {
     "name": "stdout",
     "output_type": "stream",
     "text": [
      "n_tot = 7061\n"
     ]
    }
   ],
   "source": [
    "n_tot = n*n_layer\n",
    "print 'n_tot = {}'.format(n_tot)"
   ]
  },
  {
   "cell_type": "code",
   "execution_count": 27,
   "metadata": {
    "collapsed": false
   },
   "outputs": [],
   "source": [
    "N_sq = 50\n",
    "r = np.linspace(-0.9*R_min,0.9*R_min,N_sq)\n",
    "z = np.linspace(-R_min,R_min,N_sq)\n",
    "X,Y = np.meshgrid(r,z)\n",
    "\n",
    "\n",
    "r01 = np.linspace(-0.9*R_min,0.9*R_min,N_sq+1)\n",
    "z01 = np.linspace(-R_min,R_min,N_sq+1)\n",
    "X1,Y1 = np.meshgrid(r01,z01)"
   ]
  },
  {
   "cell_type": "code",
   "execution_count": null,
   "metadata": {
    "collapsed": true
   },
   "outputs": [],
   "source": []
  },
  {
   "cell_type": "code",
   "execution_count": 30,
   "metadata": {
    "collapsed": false
   },
   "outputs": [],
   "source": [
    "B = np.array(B_HH(n,n_layer,d_wire,r,z,z0,I_max,R_min,N))\n",
    "\n"
   ]
  },
  {
   "cell_type": "code",
   "execution_count": 55,
   "metadata": {
    "collapsed": false
   },
   "outputs": [
    {
     "data": {
      "image/png": "[encoded data removed]",
      "text/plain": [
       "<matplotlib.figure.Figure at 0x7f89fe1a7b50>"
      ]
     },
     "metadata": {},
     "output_type": "display_data"
    }
   ],
   "source": [
    "figBz, ax = plt.subplots(figsize =(10,6))\n",
    "ax.set_title(r'$B_z(\\vec{r})$', fontsize = labelsize)\n",
    "ax.set_xlabel('r [mm]', fontsize = labelsize)\n",
    "ax.set_ylabel('z [mm]', fontsize = labelsize)\n",
    "ax.set_xlim(-0.9*R_min*10**3,0.9*R_min*10**3)\n",
    "ax.set_ylim(-R_min*10**3,R_min*10**3)\n",
    "#ax.axes.set_aspect('equal')\n",
    "C2 = plt.contour(r*10**3, z*10**3, B[0]*10**3,10)\n",
    "cd = plt.pcolor(X1*10**3,Y1*10**3,B[0]*10**3, cmap=plt.get_cmap(cmaps.viridis))\n",
    "cbar = plt.colorbar(cd)\n",
    "cbar.ax.set_ylabel(r'$B_z(\\vec{r})\\,\\mathrm{[mT]}$')\n",
    "plt.tight_layout()"
   ]
  },
  {
   "cell_type": "code",
   "execution_count": null,
   "metadata": {
    "collapsed": true
   },
   "outputs": [],
   "source": []
  },
  {
   "cell_type": "code",
   "execution_count": null,
   "metadata": {
    "collapsed": true
   },
   "outputs": [],
   "source": []
  },
  {
   "cell_type": "code",
   "execution_count": null,
   "metadata": {
    "collapsed": true
   },
   "outputs": [],
   "source": []
  },
  {
   "cell_type": "markdown",
   "metadata": {
    "collapsed": true
   },
   "source": [
    "## Large Compensation coil:"
   ]
  },
  {
   "cell_type": "code",
   "execution_count": 17,
   "metadata": {
    "collapsed": true
   },
   "outputs": [],
   "source": [
    "R_c_min = 0.05/2. #inner radius in m\n",
    "R_c_max = 0.06/2. #max. outer radius in m\n",
    "l = 0.01 #coil length"
   ]
  },
  {
   "cell_type": "code",
   "execution_count": 18,
   "metadata": {
    "collapsed": false
   },
   "outputs": [],
   "source": [
    "n_layer_comp = int((R_c_max-R_c_min)/d_wire)      #number of windings per layer\n",
    "n_comp = int(l/d_wire)  #number of layer"
   ]
  },
  {
   "cell_type": "code",
   "execution_count": 19,
   "metadata": {
    "collapsed": false
   },
   "outputs": [
    {
     "name": "stdout",
     "output_type": "stream",
     "text": [
      "38\n",
      "76\n"
     ]
    }
   ],
   "source": [
    "print n_layer_comp\n",
    "print n_comp"
   ]
  },
  {
   "cell_type": "code",
   "execution_count": 20,
   "metadata": {
    "collapsed": true
   },
   "outputs": [],
   "source": [
    "n_c_tot = n_layer_comp*n_comp"
   ]
  },
  {
   "cell_type": "code",
   "execution_count": 21,
   "metadata": {
    "collapsed": false
   },
   "outputs": [
    {
     "name": "stdout",
     "output_type": "stream",
     "text": [
      "2888\n"
     ]
    }
   ],
   "source": [
    "print n_c_tot"
   ]
  },
  {
   "cell_type": "code",
   "execution_count": null,
   "metadata": {
    "collapsed": true
   },
   "outputs": [],
   "source": []
  },
  {
   "cell_type": "code",
   "execution_count": null,
   "metadata": {
    "collapsed": true
   },
   "outputs": [],
   "source": [
    "B_compensation = np.array(B_HH(n_comp,n_layer_comp,d_wire,r,z,-l/2,I_max,R_c_min,N))"
   ]
  },
  {
   "cell_type": "code",
   "execution_count": null,
   "metadata": {
    "collapsed": true
   },
   "outputs": [],
   "source": []
  },
  {
   "cell_type": "code",
   "execution_count": null,
   "metadata": {
    "collapsed": true
   },
   "outputs": [],
   "source": []
  },
  {
   "cell_type": "code",
   "execution_count": null,
   "metadata": {
    "collapsed": true
   },
   "outputs": [],
   "source": []
  },
  {
   "cell_type": "code",
   "execution_count": null,
   "metadata": {
    "collapsed": true
   },
   "outputs": [],
   "source": []
  },
  {
   "cell_type": "markdown",
   "metadata": {},
   "source": [
    "## Unused functions:"
   ]
  },
  {
   "cell_type": "markdown",
   "metadata": {},
   "source": [
    "### position detection:"
   ]
  },
  {
   "cell_type": "code",
   "execution_count": 130,
   "metadata": {
    "collapsed": true
   },
   "outputs": [],
   "source": [
    "def pos(n, n_layer, R, z0, d_wire, HH = True):\n",
    "    '''creates an numpy zero array; dimensions are calculated from\n",
    "    the maximum coil dimensions divided by the wire diameter\n",
    "    '''\n",
    "    if HH == True:\n",
    "        Ndimz = int(2.*(np.abs(z0)+n*d_wire)/d_wire)\n",
    "    else: \n",
    "        Ndimz = int(2.*(np.abs(z0))/d_wire)\n",
    "    if np.mod(Ndimz,2) != 0:\n",
    "        Ndimz += 1\n",
    "    Ndimr = int(2.*(R+n_layer*d_wire)/d_wire)\n",
    "    if np.mod(Ndimr,2) != 0:\n",
    "        Ndimr += 1    \n",
    "    pos = np.zeros([Ndimz, Ndimr])\n",
    "    return pos"
   ]
  },
  {
   "cell_type": "code",
   "execution_count": 131,
   "metadata": {
    "collapsed": true
   },
   "outputs": [],
   "source": [
    "def test_func(n, n_layer, R, z0, d_wire, k = 1 , HH = True ):\n",
    "    position = pos(n, n_layer, R, z0, d_wire, HH)\n",
    "    startr = int((R+n_layer*d_wire)/d_wire-R/d_wire)\n",
    "    #p1 = pb(n*n_layer)\n",
    "    if(z0 >= 0):    #distrincion between a coil above or below the waveguide\n",
    "        startz = int((2.*z0+n*d_wire)/d_wire)\n",
    "    else: \n",
    "        if k == 1:\n",
    "            startz = 0\n",
    "        else:\n",
    "            startz = int(n)\n",
    "    print 'n = {}'.format(n)\n",
    "    print 'n_layer = {}'.format(n_layer)\n",
    "    print 'n_tot = {}'.format(n*n_layer)  \n",
    "    print 'z_coil = n_tot x d_wire = {} mm '.format(n*d_wire*10**3)\n",
    "    print 'z0 = {} mm'.format(z0*10**3)\n",
    "    print 'startr = {}'.format(startr)\n",
    "    print 'startz = {}'.format(startz)\n",
    "    for j in range(n_layer):\n",
    "        for i in range(n):\n",
    "            #print z0\n",
    "            #position[j][i] = 1\n",
    "            position[startz+k*i][startr-j] += 1\n",
    "            position[startz+k*i][position.shape[1]-startr+j] += 1\n",
    "            #p1.iterate()\n",
    "            z0+=k*d_wire   #the vertical position changes with each added winding/loop\n",
    "        z0 -= k*n*d_wire   #\n",
    "        R += d_wire  #the coil radius increases with every added layer of windings\n",
    "    return np.array(position)"
   ]
  },
  {
   "cell_type": "code",
   "execution_count": 125,
   "metadata": {
    "collapsed": false
   },
   "outputs": [
    {
     "data": {
      "text/plain": [
       "-0.0066366666666666692"
      ]
     },
     "execution_count": 125,
     "metadata": {},
     "output_type": "execute_result"
    }
   ],
   "source": [
    "z_test[n]"
   ]
  },
  {
   "cell_type": "code",
   "execution_count": 132,
   "metadata": {
    "collapsed": false
   },
   "outputs": [
    {
     "name": "stdout",
     "output_type": "stream",
     "text": [
      "n = 307\n",
      "n_layer = 23\n",
      "n_tot = 7061\n",
      "z_coil = n_tot x d_wire = 39.91 mm \n",
      "z0 = -20.0 mm\n",
      "startr = 23\n",
      "startz = 0\n"
     ]
    }
   ],
   "source": [
    "test_pos = test_func(n, n_layer, R_min, z0, d_wire, HH = False)"
   ]
  },
  {
   "cell_type": "code",
   "execution_count": 137,
   "metadata": {
    "collapsed": false
   },
   "outputs": [],
   "source": [
    "posi = pos(n, n_layer, R_min, z0, d_wire, HH = False)"
   ]
  },
  {
   "cell_type": "code",
   "execution_count": 138,
   "metadata": {
    "collapsed": false
   },
   "outputs": [
    {
     "data": {
      "text/plain": [
       "(308, 108)"
      ]
     },
     "execution_count": 138,
     "metadata": {},
     "output_type": "execute_result"
    }
   ],
   "source": [
    "posi.shape"
   ]
  },
  {
   "cell_type": "code",
   "execution_count": 139,
   "metadata": {
    "collapsed": false
   },
   "outputs": [],
   "source": [
    "r_test = np.linspace(-(R_min+n_layer*d_wire), +(R_min+n_layer*d_wire), posi.shape[1])\n",
    "z_test = np.linspace(-(z0+n*d_wire), +(z0+n*d_wire), posi.shape[0])"
   ]
  },
  {
   "cell_type": "code",
   "execution_count": 140,
   "metadata": {
    "collapsed": false
   },
   "outputs": [
    {
     "data": {
      "text/plain": [
       "<matplotlib.text.Text at 0x7f89e8d72450>"
      ]
     },
     "execution_count": 140,
     "metadata": {},
     "output_type": "execute_result"
    },
    {
     "data": {
      "image/png": "[encoded data removed]",
      "text/plain": [
       "<matplotlib.figure.Figure at 0x7f89e8d9a610>"
      ]
     },
     "metadata": {},
     "output_type": "display_data"
    }
   ],
   "source": [
    "plt.pcolor(r_test*10**3, z_test*10**3, test_pos)\n",
    "plt.axvline(-R_min*10**3, color = 'white')\n",
    "plt.axvline(R_min*10**3, color = 'white')\n",
    "plt.axhline(-z0*10**3, color = 'white')\n",
    "plt.axhline(z0*10**3, color = 'white')\n",
    "\n",
    "#plt.axvline(r_test[20]*10**3, color = 'red')\n",
    "#plt.axhline(z_test[49]*10**3, color = 'red')\n",
    "plt.xlabel('r')\n",
    "plt.ylabel('z')"
   ]
  },
  {
   "cell_type": "code",
   "execution_count": null,
   "metadata": {
    "collapsed": true
   },
   "outputs": [],
   "source": []
  },
  {
   "cell_type": "code",
   "execution_count": null,
   "metadata": {
    "collapsed": true
   },
   "outputs": [],
   "source": []
  }
 ],
 "metadata": {
  "kernelspec": {
   "display_name": "Python 2",
   "language": "python",
   "name": "python2"
  },
  "language_info": {
   "codemirror_mode": {
    "name": "ipython",
    "version": 2
   },
   "file_extension": ".py",
   "mimetype": "text/x-python",
   "name": "python",
   "nbconvert_exporter": "python",
   "pygments_lexer": "ipython2",
   "version": "2.7.6"
  }
 },
 "nbformat": 4,
 "nbformat_minor": 2
}
